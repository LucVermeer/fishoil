{
 "cells": [
  {
   "cell_type": "markdown",
   "metadata": {},
   "source": [
    "Link to article containing original code: <url>https://cnvrg.io/pytorch-lstm/</url><br>\n",
    "Most of the code is different due to mistakes present in original code."
   ]
  },
  {
   "cell_type": "code",
   "execution_count": 26,
   "metadata": {},
   "outputs": [],
   "source": [
    "# imports\n",
    "import torch as torch\n",
    "import torch.nn as nn\n",
    "from torch.autograd import Variable \n",
    "import numpy as np\n",
    "import pandas as pd\n",
    "import matplotlib.pyplot as plt\n",
    "import random\n",
    "from tqdm import trange\n",
    "import json"
   ]
  },
  {
   "cell_type": "code",
   "execution_count": 51,
   "metadata": {},
   "outputs": [],
   "source": [
    "# read monthly processed data\n",
    "df = pd.read_csv('../../dataframes/monthly_processed.csv', index_col='date', parse_dates=True)\n",
    "df_prices = df['fishoil_price_peru_value']\n",
    "df = df.drop('fishoil_price_peru_value', axis=1)\n",
    "\n",
    "# # read weekly processed data with juveniles\n",
    "# df = pd.read_csv('../../dataframes/weekly_processed.csv', index_col='date', parse_dates=True)\n",
    "# df_prices = df['fishoil_price_peru_value']\n",
    "# df = df.drop('fishoil_price_peru_value', axis=1)\n",
    "\n",
    "# # read weekly processed data with juveniles\n",
    "# df = pd.read_csv('../../dataframes/weekly_processed_with_juveniles.csv', index_col='date', parse_dates=True)\n",
    "# df_prices = df['fishoil_price_peru_value']\n",
    "# df = df.drop('fishoil_price_peru_value', axis=1)"
   ]
  },
  {
   "cell_type": "code",
   "execution_count": 52,
   "metadata": {},
   "outputs": [],
   "source": [
    "# variable definitions\n",
    "num_epochs = 50                 # number of epochs\n",
    "learning_rate = 0.001           # 0.001 lr\n",
    "\n",
    "seq_length = 36                 # sequence length of sequence given to the LSTM layer\n",
    "pred_length = 12                # prediction length of output sequence produced by LSTM layer \n",
    "                                # (multiples of twelve since there is yearly seasonality)\n",
    "                                \n",
    "input_size = len(df.columns)    # number of features (amount of input variables)\n",
    "output_size = 1                 # size of output (peru fish oil price so just one variable)\n",
    "hidden_size = 32                # number of features in hidden state (this number should be treated as a hyperparameter)\n",
    "num_layers = 2                  # number of stacked lstm layers\n",
    "dropout = 0                     # probability for dropout cells\n",
    "\n",
    "num_classes = pred_length       # number of output classes "
   ]
  },
  {
   "cell_type": "code",
   "execution_count": 57,
   "metadata": {},
   "outputs": [],
   "source": [
    "# function to create list of sequences of length seq_length\n",
    "def create_series(data, data_prices):\n",
    "    # the amount of time-steps for which we have data\n",
    "    total_timesteps = len(data)\n",
    "\n",
    "    # arrays that hold the input sequences and the corresponding target sequences respectively.\n",
    "    sequencesX, sequencesY, sequencesZ = [], [], []\n",
    "    if (total_timesteps < seq_length + pred_length):\n",
    "        # verify that enough time-steps of the data are available to create input sequence with their corresponding targets.\n",
    "        raise Exception(\"This dataframe cannot be used to create sequences of length \" + str(seq_length + pred_length))\n",
    "    \n",
    "    # create all possible sequences of length seq_length and their \n",
    "    for i in range(total_timesteps - seq_length - pred_length):\n",
    "        # append the input sequence\n",
    "        sequencesX.append(data.iloc[i:(i+seq_length), :])\n",
    "        # append the corresponding (target) output sequence\n",
    "        sequencesY.append(data.iloc[(i+seq_length):(i+seq_length+pred_length), 0:1])\n",
    "        # append price of last element of input sequence\n",
    "        sequencesZ.append(data_prices.iloc[i+seq_length-1])\n",
    "    \n",
    "    # return the sequences\n",
    "    return np.array(sequencesX), np.array(sequencesY), np.array(sequencesZ)"
   ]
  },
  {
   "cell_type": "markdown",
   "metadata": {},
   "source": [
    "In the following code block the X and y sets are created.\n",
    "\n",
    "The shape of `X` is as follows:<br>\n",
    "The element `X[s][i][j]` contains the value of the $j$'th input variable (out of the `len(df.columns)` different input variables) at the $i$'th time-step (out of the `seq_length` time-steps in the sequence) for the $s$'th sequence in the data set `X`.<br>\n",
    "\n",
    "The shape of `y` is as follows:<br>\n",
    "The element `y[s][i][0]` contains the value of the peru fish oil price (target) at the $i$'th time-step (out of the `pred_length` time-steps in the sequence) for the $s$'th sequence in the data set `y`.<br>\n",
    "The last zero-index is used because all the values are wrapped in length one arrays.\n"
   ]
  },
  {
   "cell_type": "code",
   "execution_count": 58,
   "metadata": {},
   "outputs": [
    {
     "name": "stdout",
     "output_type": "stream",
     "text": [
      "Training input/output shapes respectively: (196, 36, 18) (196, 12, 1)\n",
      "Testing input/output shapes respectively: (14, 36, 18) (14, 12, 1)\n"
     ]
    }
   ],
   "source": [
    "# split data into train and test sets\n",
    "training_set_p = 0.8\n",
    "\n",
    "df_cut_off = df[df.index > \"1996-12-01\"]\n",
    "df_prices_cut_off = df_prices[df_prices.index > \"1996-12-01\"]\n",
    "split_id = int(len(df_cut_off)*training_set_p)\n",
    "# TODO: May also need a validation set to determine optimal hyperparameters\n",
    "# df_train = df[(df.index > \"1996-12-01\") & (df.index < \"2010-01-01\")]    # use only past 1997 due to geopolitical changes\n",
    "# df_test = df[df.index >= \"2010-01-01\"]\n",
    "df_train = df_cut_off[:split_id]\n",
    "df_train_prices = df_prices_cut_off[:split_id]\n",
    "df_test = df_cut_off[split_id:]\n",
    "df_test_prices = df_prices_cut_off[split_id:]\n",
    "\n",
    "'''\n",
    "Use validation set\n",
    "training_set_p = 0.6\n",
    "valid_set_p = 0.2\n",
    "\n",
    "df_cut_off = df[df.index > \"1996-12-01\"]\n",
    "train_split_id = int(len(df_cut_off)*training_set_p)\n",
    "val_set_id = int(len(df_cut_off)*valid_set_p)\n",
    "# TODO: May also need a validation set to determine optimal hyperparameters\n",
    "# df_train = df[(df.index > \"1996-12-01\") & (df.index < \"2010-01-01\")]    # use only past 1997 due to geopolitical changes\n",
    "# df_test = df[df.index >= \"2010-01-01\"]\n",
    "df_train = df_cut_off[:train_split_id]\n",
    "df_val = df_cut_off[train_split_id:train_split_id+val_set_id]\n",
    "df_test = df_cut_off[train_split_id+val_set_id:]\n",
    "'''\n",
    "\n",
    "# create the sequences to train on\n",
    "X_train, y_train, y_train_prices = create_series(df_train, df_train_prices)\n",
    "\n",
    "# create the sequences to test on\n",
    "X_test, y_test, y_test_prices = create_series(df_test, df_test_prices)\n",
    "\n",
    "# print shapes\n",
    "print(\"Training input/output shapes respectively:\", X_train.shape, y_train.shape)\n",
    "print(\"Testing input/output shapes respectively:\", X_test.shape, y_test.shape)"
   ]
  },
  {
   "cell_type": "markdown",
   "metadata": {},
   "source": [
    "The datasets are converted to PyTorch tensors and the shapes are printed.<br>\n",
    "The input shape is of the form `(nr_of_sequences, seq_length, input_size)`.<br>\n",
    "The output shape is of the form `(nr_of_sequences, pred_length, output_size)`.\n",
    "\n",
    "If this needs to be reshaped the `torch.reshape(data, shape)` function can be used."
   ]
  },
  {
   "cell_type": "code",
   "execution_count": 71,
   "metadata": {},
   "outputs": [
    {
     "name": "stdout",
     "output_type": "stream",
     "text": [
      "Training input/output shapes respectively: torch.Size([196, 36, 18]) torch.Size([196, 36, 18])\n",
      "Testing input/output shapes respectively: torch.Size([14, 36, 18]) torch.Size([14, 12])\n"
     ]
    }
   ],
   "source": [
    "# convert data to pytorch variables\n",
    "X_train_tensors = Variable(torch.Tensor(X_train))\n",
    "y_train_tensors = Variable(torch.Tensor(y_train))\n",
    "X_test_tensors = Variable(torch.Tensor(X_test))\n",
    "y_test_tensors = Variable(torch.Tensor(y_test)) \n",
    "\n",
    "# flatten the output tensors to remove unnecassary dimension\n",
    "y_train_tensors = torch.flatten(y_train_tensors, 1)\n",
    "y_test_tensors = torch.flatten(y_test_tensors, 1)\n",
    "\n",
    "# print shapes\n",
    "print(\"Training input/output shapes respectively:\", X_train_tensors.shape, X_train_tensors.shape)\n",
    "print(\"Testing input/output shapes respectively:\", X_test_tensors.shape, y_test_tensors.shape)"
   ]
  },
  {
   "cell_type": "markdown",
   "metadata": {},
   "source": [
    "The input size of the first fully connected layer is equal to `(hidden_size * seq_length)` because the LSTM outputs the hidden state (containing `hidden_size` variables) for every time-step in the input which contains `seq_length` time-steps. The output size of this layer is a hyperparameter for which a default of twice the amount of inputs is used.\n",
    "\n",
    "The lstm layer can also use an initial hidden state and initial cell state for each time-step in the sequence of `seq_length` but since these are not provided it defaults to zero.<br>\n",
    "See the input section of the <a url=https://pytorch.org/docs/stable/generated/torch.nn.LSTM.html>documentation</a> for more information.\n",
    "\n",
    "The output of the lstm layer is `output, (output_hidden_states, output_cell_states)` where `output` contains for every sequence in the provided `input` the hidden state at each time-step.<br>\n",
    "Furthermore, `output_hidden_states` and `output_cell_states` contain for every sequence the hidden state and cell state of the last time-step, respectively."
   ]
  },
  {
   "cell_type": "code",
   "execution_count": 32,
   "metadata": {},
   "outputs": [],
   "source": [
    "# definition of LSTM model\n",
    "class LSTM(nn.Module):\n",
    "    def __init__(self, num_classes, input_size, hidden_size, num_layers, dropout):\n",
    "        super(LSTM, self).__init__()\n",
    "        self.num_classes = num_classes      # number of classes\n",
    "        self.num_layers = num_layers        # number of layers\n",
    "        self.input_size = input_size        # input size\n",
    "        self.hidden_size = hidden_size      # hidden state\n",
    "\n",
    "        fc_1_input_size = hidden_size * seq_length\n",
    "        fc_1_output_size = hidden_size * seq_length * 2     # output size of first fully connected layer (hyperparameter)\n",
    "        \n",
    "        self.lstm = nn.LSTM(input_size=input_size, hidden_size=hidden_size, num_layers=num_layers, dropout=dropout, batch_first=True) # lstm\n",
    "        self.fc_1 = nn.Linear(fc_1_input_size, fc_1_output_size) # first fully connected layer\n",
    "        self.fc_2 = nn.Linear(fc_1_output_size, num_classes) # second fully connected layer\n",
    "\n",
    "        self.relu = nn.ReLU()\n",
    "    \n",
    "    def forward(self, input):\n",
    "        # propagate input through LSTM\n",
    "        output, (output_hidden_states, output_cell_states) = self.lstm(input) # retrieve output from lstm by providing input (the initial hidden and cell states can be set but default sets to zero)\n",
    "        # flattened_output_hidden_states = torch.flatten(output_hidden_states) # flattened output hidden states\n",
    "        # flattened_output_cell_states = torch.flatten(output_cell_states) # flattened output cell states\n",
    "        # flattened_output = torch.cat((flattened_output_hidden_states, flattened_output_cell_states), 0) # concatenate the flattened output hidden and cell states (among dimension 0 since they only have one)\n",
    "        flattened_output = torch.flatten(output) # flattened output\n",
    "        out = self.relu(flattened_output) # relu\n",
    "        out = self.fc_1(out) # first fully connected layer\n",
    "        out = self.relu(out) # relu\n",
    "        out = self.fc_2(out) # second fully connected layer\n",
    "        return out"
   ]
  },
  {
   "cell_type": "code",
   "execution_count": 33,
   "metadata": {},
   "outputs": [],
   "source": [
    "# create the lstm layer\n",
    "lstm = LSTM(num_classes, input_size, hidden_size, num_layers, dropout) # lstm layer"
   ]
  },
  {
   "cell_type": "code",
   "execution_count": 34,
   "metadata": {},
   "outputs": [],
   "source": [
    "# define the loss function and weight updating method\n",
    "criterion = torch.nn.MSELoss()    # mean-squared error for regression\n",
    "optimizer = torch.optim.Adam(lstm.parameters(), lr=learning_rate)"
   ]
  },
  {
   "cell_type": "code",
   "execution_count": 35,
   "metadata": {},
   "outputs": [
    {
     "name": "stderr",
     "output_type": "stream",
     "text": [
      "  2%|▏         | 1/50 [00:01<00:55,  1.13s/it]"
     ]
    },
    {
     "name": "stdout",
     "output_type": "stream",
     "text": [
      "Epoch: 0, loss: 0.03033\n"
     ]
    },
    {
     "name": "stderr",
     "output_type": "stream",
     "text": [
      " 22%|██▏       | 11/50 [00:12<00:43,  1.11s/it]"
     ]
    },
    {
     "name": "stdout",
     "output_type": "stream",
     "text": [
      "Epoch: 10, loss: 0.03032\n"
     ]
    },
    {
     "name": "stderr",
     "output_type": "stream",
     "text": [
      " 42%|████▏     | 21/50 [00:23<00:33,  1.17s/it]"
     ]
    },
    {
     "name": "stdout",
     "output_type": "stream",
     "text": [
      "Epoch: 20, loss: 0.03033\n"
     ]
    },
    {
     "name": "stderr",
     "output_type": "stream",
     "text": [
      " 62%|██████▏   | 31/50 [00:34<00:20,  1.10s/it]"
     ]
    },
    {
     "name": "stdout",
     "output_type": "stream",
     "text": [
      "Epoch: 30, loss: 0.03038\n"
     ]
    },
    {
     "name": "stderr",
     "output_type": "stream",
     "text": [
      " 82%|████████▏ | 41/50 [00:46<00:10,  1.11s/it]"
     ]
    },
    {
     "name": "stdout",
     "output_type": "stream",
     "text": [
      "Epoch: 40, loss: 0.03040\n"
     ]
    },
    {
     "name": "stderr",
     "output_type": "stream",
     "text": [
      "100%|██████████| 50/50 [00:56<00:00,  1.12s/it]\n",
      "  2%|▏         | 1/50 [00:02<01:45,  2.15s/it]"
     ]
    },
    {
     "name": "stdout",
     "output_type": "stream",
     "text": [
      "Epoch: 0, loss: 0.03051\n"
     ]
    },
    {
     "name": "stderr",
     "output_type": "stream",
     "text": [
      " 12%|█▏        | 6/50 [00:13<01:41,  2.31s/it]\n"
     ]
    },
    {
     "ename": "KeyboardInterrupt",
     "evalue": "",
     "output_type": "error",
     "traceback": [
      "\u001b[1;31m---------------------------------------------------------------------------\u001b[0m",
      "\u001b[1;31mKeyboardInterrupt\u001b[0m                         Traceback (most recent call last)",
      "\u001b[1;32md:\\Xampp\\htdocs\\fishoil\\models\\lstm\\LSTM Model.ipynb Cell 14\u001b[0m in \u001b[0;36m<cell line: 79>\u001b[1;34m()\u001b[0m\n\u001b[0;32m     <a href='vscode-notebook-cell:/d%3A/Xampp/htdocs/fishoil/models/lstm/LSTM%20Model.ipynb#X16sZmlsZQ%3D%3D?line=75'>76</a>\u001b[0m   f\u001b[39m.\u001b[39mwrite(json_string)\n\u001b[0;32m     <a href='vscode-notebook-cell:/d%3A/Xampp/htdocs/fishoil/models/lstm/LSTM%20Model.ipynb#X16sZmlsZQ%3D%3D?line=76'>77</a>\u001b[0m   f\u001b[39m.\u001b[39mclose()\n\u001b[1;32m---> <a href='vscode-notebook-cell:/d%3A/Xampp/htdocs/fishoil/models/lstm/LSTM%20Model.ipynb#X16sZmlsZQ%3D%3D?line=78'>79</a>\u001b[0m grid_search([\u001b[39m2\u001b[39;49m, \u001b[39m4\u001b[39;49m, \u001b[39m8\u001b[39;49m, \u001b[39m16\u001b[39;49m, \u001b[39m32\u001b[39;49m], [\u001b[39m1\u001b[39;49m, \u001b[39m2\u001b[39;49m], [\u001b[39m0\u001b[39;49m])\n",
      "\u001b[1;32md:\\Xampp\\htdocs\\fishoil\\models\\lstm\\LSTM Model.ipynb Cell 14\u001b[0m in \u001b[0;36mgrid_search\u001b[1;34m(hidden_size_list, num_layers_list, dropout_list)\u001b[0m\n\u001b[0;32m     <a href='vscode-notebook-cell:/d%3A/Xampp/htdocs/fishoil/models/lstm/LSTM%20Model.ipynb#X16sZmlsZQ%3D%3D?line=63'>64</a>\u001b[0m \u001b[39mfor\u001b[39;00m num_layers \u001b[39min\u001b[39;00m num_layers_list:\n\u001b[0;32m     <a href='vscode-notebook-cell:/d%3A/Xampp/htdocs/fishoil/models/lstm/LSTM%20Model.ipynb#X16sZmlsZQ%3D%3D?line=64'>65</a>\u001b[0m   \u001b[39mfor\u001b[39;00m dropout \u001b[39min\u001b[39;00m dropout_list:\n\u001b[1;32m---> <a href='vscode-notebook-cell:/d%3A/Xampp/htdocs/fishoil/models/lstm/LSTM%20Model.ipynb#X16sZmlsZQ%3D%3D?line=65'>66</a>\u001b[0m     lstm, losses, avg_losses \u001b[39m=\u001b[39m train_model(hidden_size, num_layers, dropout)\n\u001b[0;32m     <a href='vscode-notebook-cell:/d%3A/Xampp/htdocs/fishoil/models/lstm/LSTM%20Model.ipynb#X16sZmlsZQ%3D%3D?line=66'>67</a>\u001b[0m     avg_mse \u001b[39m=\u001b[39m calculate_mse(lstm)\n\u001b[0;32m     <a href='vscode-notebook-cell:/d%3A/Xampp/htdocs/fishoil/models/lstm/LSTM%20Model.ipynb#X16sZmlsZQ%3D%3D?line=67'>68</a>\u001b[0m     data_log\u001b[39m.\u001b[39mappend({\u001b[39m'\u001b[39m\u001b[39mhidden dimensions\u001b[39m\u001b[39m'\u001b[39m: \u001b[39mint\u001b[39m(hidden_size), \n\u001b[0;32m     <a href='vscode-notebook-cell:/d%3A/Xampp/htdocs/fishoil/models/lstm/LSTM%20Model.ipynb#X16sZmlsZQ%3D%3D?line=68'>69</a>\u001b[0m                       \u001b[39m'\u001b[39m\u001b[39mlstm layers\u001b[39m\u001b[39m'\u001b[39m: \u001b[39mint\u001b[39m(num_layers), \n\u001b[0;32m     <a href='vscode-notebook-cell:/d%3A/Xampp/htdocs/fishoil/models/lstm/LSTM%20Model.ipynb#X16sZmlsZQ%3D%3D?line=69'>70</a>\u001b[0m                       \u001b[39m'\u001b[39m\u001b[39mdropout\u001b[39m\u001b[39m'\u001b[39m: \u001b[39mfloat\u001b[39m(dropout), \n\u001b[0;32m     <a href='vscode-notebook-cell:/d%3A/Xampp/htdocs/fishoil/models/lstm/LSTM%20Model.ipynb#X16sZmlsZQ%3D%3D?line=70'>71</a>\u001b[0m                       \u001b[39m'\u001b[39m\u001b[39mloss_list\u001b[39m\u001b[39m'\u001b[39m: losses, \n\u001b[0;32m     <a href='vscode-notebook-cell:/d%3A/Xampp/htdocs/fishoil/models/lstm/LSTM%20Model.ipynb#X16sZmlsZQ%3D%3D?line=71'>72</a>\u001b[0m                       \u001b[39m'\u001b[39m\u001b[39mavg_losses\u001b[39m\u001b[39m'\u001b[39m: avg_losses, \n\u001b[0;32m     <a href='vscode-notebook-cell:/d%3A/Xampp/htdocs/fishoil/models/lstm/LSTM%20Model.ipynb#X16sZmlsZQ%3D%3D?line=72'>73</a>\u001b[0m                       \u001b[39m'\u001b[39m\u001b[39mavg mse\u001b[39m\u001b[39m'\u001b[39m: \u001b[39mfloat\u001b[39m(avg_mse)})\n",
      "\u001b[1;32md:\\Xampp\\htdocs\\fishoil\\models\\lstm\\LSTM Model.ipynb Cell 14\u001b[0m in \u001b[0;36mtrain_model\u001b[1;34m(hidden_size, num_layers, dropout, save)\u001b[0m\n\u001b[0;32m     <a href='vscode-notebook-cell:/d%3A/Xampp/htdocs/fishoil/models/lstm/LSTM%20Model.ipynb#X16sZmlsZQ%3D%3D?line=15'>16</a>\u001b[0m \u001b[39m# obtain the loss function\u001b[39;00m\n\u001b[0;32m     <a href='vscode-notebook-cell:/d%3A/Xampp/htdocs/fishoil/models/lstm/LSTM%20Model.ipynb#X16sZmlsZQ%3D%3D?line=16'>17</a>\u001b[0m loss \u001b[39m=\u001b[39m criterion(output, y_train_tensors[sequence])\n\u001b[1;32m---> <a href='vscode-notebook-cell:/d%3A/Xampp/htdocs/fishoil/models/lstm/LSTM%20Model.ipynb#X16sZmlsZQ%3D%3D?line=17'>18</a>\u001b[0m loss\u001b[39m.\u001b[39;49mbackward() \u001b[39m# calculates the loss of the loss function\u001b[39;00m\n\u001b[0;32m     <a href='vscode-notebook-cell:/d%3A/Xampp/htdocs/fishoil/models/lstm/LSTM%20Model.ipynb#X16sZmlsZQ%3D%3D?line=18'>19</a>\u001b[0m optimizer\u001b[39m.\u001b[39mstep() \u001b[39m# improve from loss, i.e backprop\u001b[39;00m\n\u001b[0;32m     <a href='vscode-notebook-cell:/d%3A/Xampp/htdocs/fishoil/models/lstm/LSTM%20Model.ipynb#X16sZmlsZQ%3D%3D?line=19'>20</a>\u001b[0m avg_loss\u001b[39m.\u001b[39mappend(loss\u001b[39m.\u001b[39mitem())\n",
      "File \u001b[1;32m~\\AppData\\Local\\Packages\\PythonSoftwareFoundation.Python.3.9_qbz5n2kfra8p0\\LocalCache\\local-packages\\Python39\\site-packages\\torch\\_tensor.py:396\u001b[0m, in \u001b[0;36mTensor.backward\u001b[1;34m(self, gradient, retain_graph, create_graph, inputs)\u001b[0m\n\u001b[0;32m    387\u001b[0m \u001b[39mif\u001b[39;00m has_torch_function_unary(\u001b[39mself\u001b[39m):\n\u001b[0;32m    388\u001b[0m     \u001b[39mreturn\u001b[39;00m handle_torch_function(\n\u001b[0;32m    389\u001b[0m         Tensor\u001b[39m.\u001b[39mbackward,\n\u001b[0;32m    390\u001b[0m         (\u001b[39mself\u001b[39m,),\n\u001b[1;32m   (...)\u001b[0m\n\u001b[0;32m    394\u001b[0m         create_graph\u001b[39m=\u001b[39mcreate_graph,\n\u001b[0;32m    395\u001b[0m         inputs\u001b[39m=\u001b[39minputs)\n\u001b[1;32m--> 396\u001b[0m torch\u001b[39m.\u001b[39;49mautograd\u001b[39m.\u001b[39;49mbackward(\u001b[39mself\u001b[39;49m, gradient, retain_graph, create_graph, inputs\u001b[39m=\u001b[39;49minputs)\n",
      "File \u001b[1;32m~\\AppData\\Local\\Packages\\PythonSoftwareFoundation.Python.3.9_qbz5n2kfra8p0\\LocalCache\\local-packages\\Python39\\site-packages\\torch\\autograd\\__init__.py:173\u001b[0m, in \u001b[0;36mbackward\u001b[1;34m(tensors, grad_tensors, retain_graph, create_graph, grad_variables, inputs)\u001b[0m\n\u001b[0;32m    168\u001b[0m     retain_graph \u001b[39m=\u001b[39m create_graph\n\u001b[0;32m    170\u001b[0m \u001b[39m# The reason we repeat same the comment below is that\u001b[39;00m\n\u001b[0;32m    171\u001b[0m \u001b[39m# some Python versions print out the first line of a multi-line function\u001b[39;00m\n\u001b[0;32m    172\u001b[0m \u001b[39m# calls in the traceback and some print out the last line\u001b[39;00m\n\u001b[1;32m--> 173\u001b[0m Variable\u001b[39m.\u001b[39;49m_execution_engine\u001b[39m.\u001b[39;49mrun_backward(  \u001b[39m# Calls into the C++ engine to run the backward pass\u001b[39;49;00m\n\u001b[0;32m    174\u001b[0m     tensors, grad_tensors_, retain_graph, create_graph, inputs,\n\u001b[0;32m    175\u001b[0m     allow_unreachable\u001b[39m=\u001b[39;49m\u001b[39mTrue\u001b[39;49;00m, accumulate_grad\u001b[39m=\u001b[39;49m\u001b[39mTrue\u001b[39;49;00m)\n",
      "\u001b[1;31mKeyboardInterrupt\u001b[0m: "
     ]
    }
   ],
   "source": [
    "# train the model\n",
    "def train_model(hidden_size, num_layers, dropout, save=True):\n",
    "  best_loss = np.inf\n",
    "  # create the lstm layer\n",
    "  lstm = LSTM(num_classes, input_size, hidden_size, num_layers, dropout) # lstm layer\n",
    "  criterion = torch.nn.MSELoss()    # mean-squared error for regression\n",
    "  optimizer = torch.optim.Adam(lstm.parameters(), lr=learning_rate)\n",
    "  losses = []\n",
    "  avg_losses = []\n",
    "  for epoch in trange(num_epochs):\n",
    "    # using batches of size 1\n",
    "    avg_loss = []\n",
    "    for sequence in range(X_train_tensors.size(0)):\n",
    "      output = lstm.forward(X_train_tensors[sequence].unsqueeze(dim=0)) # forward pass\n",
    "      optimizer.zero_grad() # calculate the gradient, manually setting to 0\n",
    "      # obtain the loss function\n",
    "      loss = criterion(output, y_train_tensors[sequence])\n",
    "      loss.backward() # calculates the loss of the loss function\n",
    "      optimizer.step() # improve from loss, i.e backprop\n",
    "      avg_loss.append(loss.item())\n",
    "    avg_losses.append(np.mean(avg_loss))\n",
    "    losses.append(loss.item())\n",
    "    if loss < best_loss:\n",
    "      best_loss = loss\n",
    "      best_model = lstm\n",
    "    if epoch % 10 == 0:\n",
    "      print(\"Epoch: %d, loss: %1.5f\" % (epoch, loss.item()))\n",
    "  torch.save(best_model.state_dict(), \"../trained_models/lstm_h={}_layers={}_dropout={}\".format(hidden_size, num_layers, str(dropout == 0.5)))\n",
    "  return best_model, losses, avg_losses\n",
    "\n",
    "def calculate_mse(lstm):\n",
    "  '''Calculates the  MSE over the whole test set'''\n",
    "  # make predictions for the test set using lstm and baseline models and compute the losses\n",
    "  lstm_outputs = []\n",
    "  baseline_past_outputs = []\n",
    "  lstm_losses = []\n",
    "  baseline_past_losses = []\n",
    "\n",
    "  # first sequence in test set are not used to ease baseline computation\n",
    "  for sequence in range(1, X_test_tensors.size(0)):\n",
    "      # output of lstm layer\n",
    "      lstm_output = lstm.forward(X_test_tensors[sequence].unsqueeze(dim=0))\n",
    "\n",
    "      # output of baseline using past data\n",
    "      baseline_past_output = y_test_tensors[sequence-pred_length]\n",
    "\n",
    "      # compute losses\n",
    "      loss_lstm = criterion(lstm_output, y_test_tensors[sequence])\n",
    "      loss_baseline_past = criterion(baseline_past_output, y_test_tensors[sequence])\n",
    "\n",
    "      # save the outputs\n",
    "      lstm_outputs.append(lstm_output.detach().numpy())\n",
    "      baseline_past_outputs.append(baseline_past_output.numpy())\n",
    "\n",
    "      # save the losses\n",
    "      lstm_losses.append(loss_lstm.detach().numpy())\n",
    "      baseline_past_losses.append(loss_baseline_past.numpy())\n",
    "  return np.mean(lstm_losses)\n",
    "\n",
    "def grid_search(hidden_size_list, num_layers_list, dropout_list):\n",
    "  '''Performs a grid search to find optimal hyperparameters'''\n",
    "  data_log = []\n",
    "  for hidden_size in hidden_size_list:\n",
    "    for num_layers in num_layers_list:\n",
    "      for dropout in dropout_list:\n",
    "        lstm, losses, avg_losses = train_model(hidden_size, num_layers, dropout)\n",
    "        avg_mse = calculate_mse(lstm)\n",
    "        data_log.append({'hidden dimensions': int(hidden_size), \n",
    "                          'lstm layers': int(num_layers), \n",
    "                          'dropout': float(dropout), \n",
    "                          'loss_list': losses, \n",
    "                          'avg_losses': avg_losses, \n",
    "                          'avg mse': float(avg_mse)})\n",
    "  json_string = json.dumps(data_log)\n",
    "  f = open('grid_search_results.json', 'w')\n",
    "  f.write(json_string)\n",
    "  f.close()\n",
    "\n",
    "grid_search([2, 4, 8, 16, 32], [1, 2], [0])"
   ]
  },
  {
   "cell_type": "markdown",
   "metadata": {},
   "source": [
    "The past baseline predicts that the next 12 months of fish oil log ratios will be exactly those observed last year.<br>\n",
    "The repeat baselines predicts that the next 12 months of fish oil log ratios will all be equal to the last observed fish oil log ratio."
   ]
  },
  {
   "cell_type": "code",
   "execution_count": 38,
   "metadata": {},
   "outputs": [],
   "source": [
    "# plt.plot(avg_losses)\n",
    "# plt.plot(losses)\n",
    "results = pd.read_json('grid_search_results.json')"
   ]
  },
  {
   "cell_type": "code",
   "execution_count": 39,
   "metadata": {},
   "outputs": [
    {
     "data": {
      "text/html": [
       "<div>\n",
       "<style scoped>\n",
       "    .dataframe tbody tr th:only-of-type {\n",
       "        vertical-align: middle;\n",
       "    }\n",
       "\n",
       "    .dataframe tbody tr th {\n",
       "        vertical-align: top;\n",
       "    }\n",
       "\n",
       "    .dataframe thead th {\n",
       "        text-align: right;\n",
       "    }\n",
       "</style>\n",
       "<table border=\"1\" class=\"dataframe\">\n",
       "  <thead>\n",
       "    <tr style=\"text-align: right;\">\n",
       "      <th></th>\n",
       "      <th>hidden dimensions</th>\n",
       "      <th>lstm layers</th>\n",
       "      <th>dropout</th>\n",
       "      <th>avg mse</th>\n",
       "    </tr>\n",
       "  </thead>\n",
       "  <tbody>\n",
       "    <tr>\n",
       "      <th>14</th>\n",
       "      <td>16</td>\n",
       "      <td>2</td>\n",
       "      <td>0.0</td>\n",
       "      <td>0.063666</td>\n",
       "    </tr>\n",
       "    <tr>\n",
       "      <th>6</th>\n",
       "      <td>4</td>\n",
       "      <td>2</td>\n",
       "      <td>0.0</td>\n",
       "      <td>0.064865</td>\n",
       "    </tr>\n",
       "    <tr>\n",
       "      <th>12</th>\n",
       "      <td>16</td>\n",
       "      <td>1</td>\n",
       "      <td>0.0</td>\n",
       "      <td>0.068421</td>\n",
       "    </tr>\n",
       "    <tr>\n",
       "      <th>19</th>\n",
       "      <td>32</td>\n",
       "      <td>2</td>\n",
       "      <td>0.5</td>\n",
       "      <td>0.069007</td>\n",
       "    </tr>\n",
       "    <tr>\n",
       "      <th>7</th>\n",
       "      <td>4</td>\n",
       "      <td>2</td>\n",
       "      <td>0.5</td>\n",
       "      <td>0.071509</td>\n",
       "    </tr>\n",
       "    <tr>\n",
       "      <th>15</th>\n",
       "      <td>16</td>\n",
       "      <td>2</td>\n",
       "      <td>0.5</td>\n",
       "      <td>0.071578</td>\n",
       "    </tr>\n",
       "    <tr>\n",
       "      <th>4</th>\n",
       "      <td>4</td>\n",
       "      <td>1</td>\n",
       "      <td>0.0</td>\n",
       "      <td>0.072360</td>\n",
       "    </tr>\n",
       "    <tr>\n",
       "      <th>11</th>\n",
       "      <td>8</td>\n",
       "      <td>2</td>\n",
       "      <td>0.5</td>\n",
       "      <td>0.072866</td>\n",
       "    </tr>\n",
       "    <tr>\n",
       "      <th>10</th>\n",
       "      <td>8</td>\n",
       "      <td>2</td>\n",
       "      <td>0.0</td>\n",
       "      <td>0.076186</td>\n",
       "    </tr>\n",
       "    <tr>\n",
       "      <th>17</th>\n",
       "      <td>32</td>\n",
       "      <td>1</td>\n",
       "      <td>0.5</td>\n",
       "      <td>0.076408</td>\n",
       "    </tr>\n",
       "    <tr>\n",
       "      <th>5</th>\n",
       "      <td>4</td>\n",
       "      <td>1</td>\n",
       "      <td>0.5</td>\n",
       "      <td>0.077573</td>\n",
       "    </tr>\n",
       "    <tr>\n",
       "      <th>13</th>\n",
       "      <td>16</td>\n",
       "      <td>1</td>\n",
       "      <td>0.5</td>\n",
       "      <td>0.079599</td>\n",
       "    </tr>\n",
       "    <tr>\n",
       "      <th>18</th>\n",
       "      <td>32</td>\n",
       "      <td>2</td>\n",
       "      <td>0.0</td>\n",
       "      <td>0.080904</td>\n",
       "    </tr>\n",
       "    <tr>\n",
       "      <th>8</th>\n",
       "      <td>8</td>\n",
       "      <td>1</td>\n",
       "      <td>0.0</td>\n",
       "      <td>0.081371</td>\n",
       "    </tr>\n",
       "    <tr>\n",
       "      <th>9</th>\n",
       "      <td>8</td>\n",
       "      <td>1</td>\n",
       "      <td>0.5</td>\n",
       "      <td>0.086241</td>\n",
       "    </tr>\n",
       "    <tr>\n",
       "      <th>1</th>\n",
       "      <td>2</td>\n",
       "      <td>1</td>\n",
       "      <td>0.5</td>\n",
       "      <td>0.086258</td>\n",
       "    </tr>\n",
       "    <tr>\n",
       "      <th>16</th>\n",
       "      <td>32</td>\n",
       "      <td>1</td>\n",
       "      <td>0.0</td>\n",
       "      <td>0.088907</td>\n",
       "    </tr>\n",
       "    <tr>\n",
       "      <th>3</th>\n",
       "      <td>2</td>\n",
       "      <td>2</td>\n",
       "      <td>0.5</td>\n",
       "      <td>0.091800</td>\n",
       "    </tr>\n",
       "    <tr>\n",
       "      <th>2</th>\n",
       "      <td>2</td>\n",
       "      <td>2</td>\n",
       "      <td>0.0</td>\n",
       "      <td>0.100081</td>\n",
       "    </tr>\n",
       "    <tr>\n",
       "      <th>0</th>\n",
       "      <td>2</td>\n",
       "      <td>1</td>\n",
       "      <td>0.0</td>\n",
       "      <td>0.120580</td>\n",
       "    </tr>\n",
       "  </tbody>\n",
       "</table>\n",
       "</div>"
      ],
      "text/plain": [
       "    hidden dimensions  lstm layers  dropout   avg mse\n",
       "14                 16            2      0.0  0.063666\n",
       "6                   4            2      0.0  0.064865\n",
       "12                 16            1      0.0  0.068421\n",
       "19                 32            2      0.5  0.069007\n",
       "7                   4            2      0.5  0.071509\n",
       "15                 16            2      0.5  0.071578\n",
       "4                   4            1      0.0  0.072360\n",
       "11                  8            2      0.5  0.072866\n",
       "10                  8            2      0.0  0.076186\n",
       "17                 32            1      0.5  0.076408\n",
       "5                   4            1      0.5  0.077573\n",
       "13                 16            1      0.5  0.079599\n",
       "18                 32            2      0.0  0.080904\n",
       "8                   8            1      0.0  0.081371\n",
       "9                   8            1      0.5  0.086241\n",
       "1                   2            1      0.5  0.086258\n",
       "16                 32            1      0.0  0.088907\n",
       "3                   2            2      0.5  0.091800\n",
       "2                   2            2      0.0  0.100081\n",
       "0                   2            1      0.0  0.120580"
      ]
     },
     "metadata": {},
     "output_type": "display_data"
    }
   ],
   "source": [
    "results = results.sort_values('avg mse')\n",
    "display(results[['hidden dimensions', 'lstm layers', 'dropout', 'avg mse']])"
   ]
  },
  {
   "cell_type": "code",
   "execution_count": 63,
   "metadata": {},
   "outputs": [
    {
     "data": {
      "text/plain": [
       "LSTM(\n",
       "  (lstm): LSTM(18, 16, num_layers=2, batch_first=True)\n",
       "  (fc_1): Linear(in_features=576, out_features=1152, bias=True)\n",
       "  (fc_2): Linear(in_features=1152, out_features=12, bias=True)\n",
       "  (relu): ReLU()\n",
       ")"
      ]
     },
     "execution_count": 63,
     "metadata": {},
     "output_type": "execute_result"
    }
   ],
   "source": [
    "optimal_params = results.iloc[0]\n",
    "lstm = LSTM(num_classes, input_size, optimal_params['hidden dimensions'], optimal_params['lstm layers'], 0)\n",
    "lstm.load_state_dict(torch.load(\"../trained_models/lstm_h={}_layers={}_dropout={}\".format(optimal_params['hidden dimensions'],\n",
    "                                                                            optimal_params['lstm layers'],\n",
    "                                                                            str(optimal_params['dropout'] == 0.5))))\n",
    "lstm.eval()"
   ]
  },
  {
   "cell_type": "code",
   "execution_count": 72,
   "metadata": {},
   "outputs": [],
   "source": [
    "# make predictions for the test set using lstm and baseline models and compute the losses\n",
    "lstm_outputs = []\n",
    "baseline_past_outputs = []\n",
    "lstm_losses = []\n",
    "baseline_past_losses = []\n",
    "\n",
    "# first sequence in test set are not used to ease baseline computation\n",
    "for sequence in range(1, X_test_tensors.size(0)):\n",
    "    # output of lstm layer\n",
    "    lstm_output = lstm.forward(X_test_tensors[sequence].unsqueeze(dim=0))\n",
    "\n",
    "    # output of baseline using past data\n",
    "    baseline_past_output = y_test_tensors[sequence-pred_length]\n",
    "\n",
    "    # compute losses\n",
    "    loss_lstm = criterion(lstm_output, y_test_tensors[sequence])\n",
    "    loss_baseline_past = criterion(baseline_past_output, y_test_tensors[sequence])\n",
    "\n",
    "    # save the outputs\n",
    "    lstm_outputs.append(lstm_output.detach().numpy())\n",
    "    baseline_past_outputs.append(baseline_past_output.numpy())\n",
    "\n",
    "    # save the losses\n",
    "    lstm_losses.append(loss_lstm.detach().numpy())\n",
    "    baseline_past_losses.append(loss_baseline_past.numpy())"
   ]
  },
  {
   "cell_type": "code",
   "execution_count": 73,
   "metadata": {},
   "outputs": [
    {
     "name": "stdout",
     "output_type": "stream",
     "text": [
      "LSTM loss: 0.058795244\n",
      "Baseline past loss: 0.03460535\n"
     ]
    },
    {
     "data": {
      "image/png": "[encoded data removed]",
      "text/plain": [
       "<Figure size 2160x360 with 2 Axes>"
      ]
     },
     "metadata": {
      "needs_background": "light"
     },
     "output_type": "display_data"
    }
   ],
   "source": [
    "# get a random sequence from the test set\n",
    "random_test_sequence = random.randint(1, X_test_tensors.size(0) - 1)\n",
    "\n",
    "# plot lstm and baseline outputs for the random sequence and compare to expected output\n",
    "data = {'Target': y_test_tensors[random_test_sequence].numpy(), 'LSTM': lstm_outputs[random_test_sequence-1], 'Baseline past data': baseline_past_outputs[random_test_sequence-1]}\n",
    "data = {'Target': y_test_tensors[random_test_sequence].numpy(), 'LSTM': lstm_outputs[random_test_sequence-1]}\n",
    "df_performance = pd.DataFrame(data)\n",
    "\n",
    "# plot all data\n",
    "fig, axs = plt.subplots(1, 2, figsize=(30, 5))\n",
    "\n",
    "df_performance.plot(kind='line', y='Target', color='green', ax=axs[0])\n",
    "df_performance.plot(kind='line', y='LSTM', color='blue', ax=axs[0])\n",
    "# df_performance.plot(kind='line', y='Baseline past data', color='red', ax=axs[0])\n",
    "axs[0].set(xlabel='Month', ylabel='Log ratio')\n",
    "axs[0].set_xticks(np.arange(0, pred_length, 1))\n",
    "\n",
    "# print losses \n",
    "print(\"LSTM loss:\", lstm_losses[random_test_sequence-1])\n",
    "print(\"Baseline past loss:\", baseline_past_losses[random_test_sequence-1])"
   ]
  },
  {
   "cell_type": "code",
   "execution_count": 77,
   "metadata": {},
   "outputs": [
    {
     "name": "stdout",
     "output_type": "stream",
     "text": [
      "LSTM loss: 0.06478625\n",
      "Baseline past loss: 0.09135068\n"
     ]
    },
    {
     "data": {
      "image/png": "[encoded data removed]",
      "text/plain": [
       "<Figure size 2160x360 with 2 Axes>"
      ]
     },
     "metadata": {
      "needs_background": "light"
     },
     "output_type": "display_data"
    }
   ],
   "source": [
    "# get a random sequence from the test set\n",
    "random_test_sequence = random.randint(1, X_test_tensors.size(0) - 1)\n",
    "\n",
    "# convert data back to price data\n",
    "target_prices = []\n",
    "for value in y_test_tensors[random_test_sequence].numpy():\n",
    "    target_prices.append((np.e ** value) * y_test_prices[random_test_sequence])\n",
    "target_prices\n",
    "\n",
    "lstm_output_prices = []\n",
    "for value in lstm_outputs[random_test_sequence-1]:\n",
    "    lstm_output_prices.append((np.e ** value) * y_test_prices[random_test_sequence])\n",
    "lstm_output_prices\n",
    "\n",
    "baseline_past_output_prices = []\n",
    "for value in baseline_past_outputs[random_test_sequence-1]:\n",
    "    baseline_past_output_prices.append((np.e ** value) * y_test_prices[random_test_sequence])\n",
    "baseline_past_output_prices\n",
    "\n",
    "# plot lstm and baseline outputs for the random sequence and compare to expected output\n",
    "data = {'Target': target_prices, 'LSTM': lstm_output_prices, 'Baseline past data': baseline_past_output_prices}\n",
    "df_performance = pd.DataFrame(data)\n",
    "\n",
    "# plot all data\n",
    "fig, axs = plt.subplots(1, 2, figsize=(30, 5))\n",
    "\n",
    "df_performance.plot(kind='line', y='Target', color='green', ax=axs[0])\n",
    "df_performance.plot(kind='line', y='LSTM', color='blue', ax=axs[0])\n",
    "df_performance.plot(kind='line', y='Baseline past data', color='red', ax=axs[0])\n",
    "axs[0].set(xlabel='Month', ylabel='Log ratio')\n",
    "axs[0].set_xticks(np.arange(0, pred_length, 1))\n",
    "\n",
    "# print losses \n",
    "print(\"LSTM loss:\", lstm_losses[random_test_sequence-1])\n",
    "print(\"Baseline past loss:\", baseline_past_losses[random_test_sequence-1])"
   ]
  },
  {
   "cell_type": "markdown",
   "metadata": {},
   "source": [
    "Possible factors holding back model performance:\n",
    "- provided features do not give enough information \n",
    "- target output could be wrong (prediction length)\n",
    "- layers of the model do not extract information from the features correctly\n",
    "    - no use of normalization between layers\n",
    "    - wrong layers are used and possibly too few\n",
    "    - wrong hyperparameter values are used\n",
    "- training is not done correctly   \n",
    "    - no useage of batches\n",
    "    - different loss function may be better\n"
   ]
  }
 ],
 "metadata": {
  "kernelspec": {
   "display_name": "Python 3.9.13 64-bit (windows store)",
   "language": "python",
   "name": "python3"
  },
  "language_info": {
   "codemirror_mode": {
    "name": "ipython",
    "version": 3
   },
   "file_extension": ".py",
   "mimetype": "text/x-python",
   "name": "python",
   "nbconvert_exporter": "python",
   "pygments_lexer": "ipython3",
   "version": "3.9.13"
  },
  "orig_nbformat": 4,
  "vscode": {
   "interpreter": {
    "hash": "1fc28af60476edc3e27144daec4d860a5bfd0f3e7bdb17e7edfc0e13d60e755d"
   }
  }
 },
 "nbformat": 4,
 "nbformat_minor": 2
}
