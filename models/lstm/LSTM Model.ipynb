{
 "cells": [
  {
   "cell_type": "markdown",
   "metadata": {},
   "source": [
    "Link to article containing original code: <url>https://cnvrg.io/pytorch-lstm/</url><br>\n",
    "Most of the code is different due to mistakes present in original code."
   ]
  },
  {
   "cell_type": "code",
   "execution_count": 54,
   "metadata": {},
   "outputs": [],
   "source": [
    "# imports\n",
    "import torch as torch\n",
    "import torch.nn as nn\n",
    "from torch.autograd import Variable \n",
    "import numpy as np\n",
    "import pandas as pd\n",
    "import matplotlib.pyplot as plt\n",
    "import random\n",
    "from tqdm import trange\n",
    "import json"
   ]
  },
  {
   "cell_type": "code",
   "execution_count": 55,
   "metadata": {},
   "outputs": [],
   "source": [
    "# variable that determines whether results should be saved\n",
    "save = True"
   ]
  },
  {
   "cell_type": "code",
   "execution_count": 56,
   "metadata": {},
   "outputs": [],
   "source": [
    "# read monthly processed data\n",
    "df = pd.read_csv('../../dataframes/monthly_processed.csv', index_col='date', parse_dates=True)\n",
    "df_prices = df['fishoil_price_peru_value']\n",
    "df = df.drop('fishoil_price_peru_value', axis=1)\n",
    "\n",
    "# # read weekly processed data with juveniles\n",
    "# df = pd.read_csv('../../dataframes/weekly_processed.csv', index_col='date', parse_dates=True)\n",
    "# df_prices = df['fishoil_price_peru_value']\n",
    "# df = df.drop('fishoil_price_peru_value', axis=1)\n",
    "\n",
    "# # read weekly processed data with juveniles\n",
    "# df = pd.read_csv('../../dataframes/weekly_processed_with_juveniles.csv', index_col='date', parse_dates=True)\n",
    "# df_prices = df['fishoil_price_peru_value']\n",
    "# df = df.drop('fishoil_price_peru_value', axis=1)"
   ]
  },
  {
   "cell_type": "code",
   "execution_count": 57,
   "metadata": {},
   "outputs": [],
   "source": [
    "# # filter some of the features of the data\n",
    "# df = df[['fishoil_price_peru', 'fish_price_global', 'rapeseedoil_price_global', 'fishmeal_price_peru', 'temperature_peru', 'precipitation_peru', 'fish_production_peru', 'fishoil_export_peru']]"
   ]
  },
  {
   "cell_type": "code",
   "execution_count": 58,
   "metadata": {},
   "outputs": [
    {
     "data": {
      "text/html": [
       "<div>\n",
       "<style scoped>\n",
       "    .dataframe tbody tr th:only-of-type {\n",
       "        vertical-align: middle;\n",
       "    }\n",
       "\n",
       "    .dataframe tbody tr th {\n",
       "        vertical-align: top;\n",
       "    }\n",
       "\n",
       "    .dataframe thead th {\n",
       "        text-align: right;\n",
       "    }\n",
       "</style>\n",
       "<table border=\"1\" class=\"dataframe\">\n",
       "  <thead>\n",
       "    <tr style=\"text-align: right;\">\n",
       "      <th></th>\n",
       "      <th>fishoil_price_peru</th>\n",
       "      <th>fish_price_global</th>\n",
       "      <th>rapeseedoil_price_global</th>\n",
       "      <th>fishmeal_price_peru</th>\n",
       "      <th>peanutoil_price_global</th>\n",
       "      <th>soybeanoil_price_global</th>\n",
       "      <th>sunfloweroil_price_global</th>\n",
       "      <th>temperature_peru</th>\n",
       "      <th>precipitation_peru</th>\n",
       "      <th>fish_production_peru</th>\n",
       "      <th>fish_human_consumption_peru</th>\n",
       "      <th>fish_industrial_consumption_peru</th>\n",
       "      <th>gdp</th>\n",
       "      <th>fishmeal_price_hamburg</th>\n",
       "      <th>fishoil_export_peru</th>\n",
       "      <th>fishoil_fob_peru</th>\n",
       "      <th>fishoil_utilization_indicators</th>\n",
       "      <th>fishing_hours_peru</th>\n",
       "    </tr>\n",
       "    <tr>\n",
       "      <th>date</th>\n",
       "      <th></th>\n",
       "      <th></th>\n",
       "      <th></th>\n",
       "      <th></th>\n",
       "      <th></th>\n",
       "      <th></th>\n",
       "      <th></th>\n",
       "      <th></th>\n",
       "      <th></th>\n",
       "      <th></th>\n",
       "      <th></th>\n",
       "      <th></th>\n",
       "      <th></th>\n",
       "      <th></th>\n",
       "      <th></th>\n",
       "      <th></th>\n",
       "      <th></th>\n",
       "      <th></th>\n",
       "    </tr>\n",
       "  </thead>\n",
       "  <tbody>\n",
       "    <tr>\n",
       "      <th>2022-06-01</th>\n",
       "      <td>0.000000</td>\n",
       "      <td>0.0</td>\n",
       "      <td>0.000000</td>\n",
       "      <td>0.000000</td>\n",
       "      <td>0.000000</td>\n",
       "      <td>0.000000</td>\n",
       "      <td>0.000000</td>\n",
       "      <td>0.000000</td>\n",
       "      <td>0.000000</td>\n",
       "      <td>0.000000</td>\n",
       "      <td>0.000000</td>\n",
       "      <td>0.000000</td>\n",
       "      <td>0.000000</td>\n",
       "      <td>0.000000</td>\n",
       "      <td>0.000000</td>\n",
       "      <td>0.000000</td>\n",
       "      <td>0.000000</td>\n",
       "      <td>0.000000</td>\n",
       "    </tr>\n",
       "    <tr>\n",
       "      <th>2022-05-01</th>\n",
       "      <td>0.000000</td>\n",
       "      <td>0.0</td>\n",
       "      <td>0.103397</td>\n",
       "      <td>0.016131</td>\n",
       "      <td>0.000047</td>\n",
       "      <td>0.113792</td>\n",
       "      <td>0.098321</td>\n",
       "      <td>0.000000</td>\n",
       "      <td>0.000000</td>\n",
       "      <td>0.000000</td>\n",
       "      <td>0.000000</td>\n",
       "      <td>0.000000</td>\n",
       "      <td>0.000000</td>\n",
       "      <td>0.012453</td>\n",
       "      <td>0.000000</td>\n",
       "      <td>0.000000</td>\n",
       "      <td>0.000000</td>\n",
       "      <td>0.000000</td>\n",
       "    </tr>\n",
       "    <tr>\n",
       "      <th>2022-04-01</th>\n",
       "      <td>0.000000</td>\n",
       "      <td>0.0</td>\n",
       "      <td>0.021282</td>\n",
       "      <td>0.005602</td>\n",
       "      <td>-0.000485</td>\n",
       "      <td>-0.007861</td>\n",
       "      <td>0.090283</td>\n",
       "      <td>0.000000</td>\n",
       "      <td>0.000000</td>\n",
       "      <td>-0.039221</td>\n",
       "      <td>0.197565</td>\n",
       "      <td>-3.712563</td>\n",
       "      <td>-1.172411</td>\n",
       "      <td>-0.012958</td>\n",
       "      <td>0.000000</td>\n",
       "      <td>0.000000</td>\n",
       "      <td>-3.693340</td>\n",
       "      <td>0.028711</td>\n",
       "    </tr>\n",
       "    <tr>\n",
       "      <th>2022-03-01</th>\n",
       "      <td>0.000000</td>\n",
       "      <td>0.0</td>\n",
       "      <td>-0.046919</td>\n",
       "      <td>-0.081597</td>\n",
       "      <td>0.003676</td>\n",
       "      <td>0.004800</td>\n",
       "      <td>0.036826</td>\n",
       "      <td>0.000000</td>\n",
       "      <td>0.000000</td>\n",
       "      <td>-0.020203</td>\n",
       "      <td>-0.071978</td>\n",
       "      <td>0.349140</td>\n",
       "      <td>0.035878</td>\n",
       "      <td>-0.026608</td>\n",
       "      <td>0.000000</td>\n",
       "      <td>0.000000</td>\n",
       "      <td>0.325054</td>\n",
       "      <td>0.131319</td>\n",
       "    </tr>\n",
       "    <tr>\n",
       "      <th>2022-02-01</th>\n",
       "      <td>0.000000</td>\n",
       "      <td>0.0</td>\n",
       "      <td>-0.214876</td>\n",
       "      <td>-0.046882</td>\n",
       "      <td>0.138541</td>\n",
       "      <td>-0.204014</td>\n",
       "      <td>-0.454262</td>\n",
       "      <td>0.000000</td>\n",
       "      <td>0.000000</td>\n",
       "      <td>-0.020619</td>\n",
       "      <td>-0.062978</td>\n",
       "      <td>0.114717</td>\n",
       "      <td>0.213405</td>\n",
       "      <td>-0.020735</td>\n",
       "      <td>0.000000</td>\n",
       "      <td>0.000000</td>\n",
       "      <td>0.095745</td>\n",
       "      <td>0.016566</td>\n",
       "    </tr>\n",
       "    <tr>\n",
       "      <th>...</th>\n",
       "      <td>...</td>\n",
       "      <td>...</td>\n",
       "      <td>...</td>\n",
       "      <td>...</td>\n",
       "      <td>...</td>\n",
       "      <td>...</td>\n",
       "      <td>...</td>\n",
       "      <td>...</td>\n",
       "      <td>...</td>\n",
       "      <td>...</td>\n",
       "      <td>...</td>\n",
       "      <td>...</td>\n",
       "      <td>...</td>\n",
       "      <td>...</td>\n",
       "      <td>...</td>\n",
       "      <td>...</td>\n",
       "      <td>...</td>\n",
       "      <td>...</td>\n",
       "    </tr>\n",
       "    <tr>\n",
       "      <th>1985-05-01</th>\n",
       "      <td>0.001269</td>\n",
       "      <td>0.0</td>\n",
       "      <td>0.000000</td>\n",
       "      <td>0.000000</td>\n",
       "      <td>0.000000</td>\n",
       "      <td>0.000000</td>\n",
       "      <td>0.000000</td>\n",
       "      <td>0.051774</td>\n",
       "      <td>0.527306</td>\n",
       "      <td>0.000000</td>\n",
       "      <td>0.000000</td>\n",
       "      <td>0.000000</td>\n",
       "      <td>0.000000</td>\n",
       "      <td>0.000000</td>\n",
       "      <td>1.396245</td>\n",
       "      <td>1.386294</td>\n",
       "      <td>0.000000</td>\n",
       "      <td>0.000000</td>\n",
       "    </tr>\n",
       "    <tr>\n",
       "      <th>1985-04-01</th>\n",
       "      <td>-0.343536</td>\n",
       "      <td>0.0</td>\n",
       "      <td>0.000000</td>\n",
       "      <td>0.000000</td>\n",
       "      <td>0.000000</td>\n",
       "      <td>0.000000</td>\n",
       "      <td>0.000000</td>\n",
       "      <td>0.025439</td>\n",
       "      <td>-0.039544</td>\n",
       "      <td>0.000000</td>\n",
       "      <td>0.000000</td>\n",
       "      <td>0.000000</td>\n",
       "      <td>0.000000</td>\n",
       "      <td>0.000000</td>\n",
       "      <td>1.686582</td>\n",
       "      <td>1.338285</td>\n",
       "      <td>0.000000</td>\n",
       "      <td>0.000000</td>\n",
       "    </tr>\n",
       "    <tr>\n",
       "      <th>1985-03-01</th>\n",
       "      <td>-0.049483</td>\n",
       "      <td>0.0</td>\n",
       "      <td>0.000000</td>\n",
       "      <td>0.000000</td>\n",
       "      <td>0.000000</td>\n",
       "      <td>0.000000</td>\n",
       "      <td>0.000000</td>\n",
       "      <td>0.062869</td>\n",
       "      <td>0.229165</td>\n",
       "      <td>0.000000</td>\n",
       "      <td>0.000000</td>\n",
       "      <td>0.000000</td>\n",
       "      <td>0.000000</td>\n",
       "      <td>0.000000</td>\n",
       "      <td>-0.234435</td>\n",
       "      <td>-0.282232</td>\n",
       "      <td>0.000000</td>\n",
       "      <td>0.000000</td>\n",
       "    </tr>\n",
       "    <tr>\n",
       "      <th>1985-02-01</th>\n",
       "      <td>0.504228</td>\n",
       "      <td>0.0</td>\n",
       "      <td>0.000000</td>\n",
       "      <td>0.000000</td>\n",
       "      <td>0.000000</td>\n",
       "      <td>0.000000</td>\n",
       "      <td>0.000000</td>\n",
       "      <td>-0.022361</td>\n",
       "      <td>0.295648</td>\n",
       "      <td>0.000000</td>\n",
       "      <td>0.000000</td>\n",
       "      <td>0.000000</td>\n",
       "      <td>0.000000</td>\n",
       "      <td>0.000000</td>\n",
       "      <td>-0.756528</td>\n",
       "      <td>-0.252091</td>\n",
       "      <td>0.000000</td>\n",
       "      <td>0.000000</td>\n",
       "    </tr>\n",
       "    <tr>\n",
       "      <th>1985-01-01</th>\n",
       "      <td>-0.367882</td>\n",
       "      <td>0.0</td>\n",
       "      <td>0.000000</td>\n",
       "      <td>0.000000</td>\n",
       "      <td>0.000000</td>\n",
       "      <td>0.000000</td>\n",
       "      <td>0.000000</td>\n",
       "      <td>0.003511</td>\n",
       "      <td>-0.797084</td>\n",
       "      <td>0.000000</td>\n",
       "      <td>0.000000</td>\n",
       "      <td>0.000000</td>\n",
       "      <td>0.000000</td>\n",
       "      <td>0.000000</td>\n",
       "      <td>0.376235</td>\n",
       "      <td>0.006969</td>\n",
       "      <td>0.000000</td>\n",
       "      <td>0.000000</td>\n",
       "    </tr>\n",
       "  </tbody>\n",
       "</table>\n",
       "<p>450 rows × 18 columns</p>\n",
       "</div>"
      ],
      "text/plain": [
       "            fishoil_price_peru  fish_price_global  rapeseedoil_price_global  \\\n",
       "date                                                                          \n",
       "2022-06-01            0.000000                0.0                  0.000000   \n",
       "2022-05-01            0.000000                0.0                  0.103397   \n",
       "2022-04-01            0.000000                0.0                  0.021282   \n",
       "2022-03-01            0.000000                0.0                 -0.046919   \n",
       "2022-02-01            0.000000                0.0                 -0.214876   \n",
       "...                        ...                ...                       ...   \n",
       "1985-05-01            0.001269                0.0                  0.000000   \n",
       "1985-04-01           -0.343536                0.0                  0.000000   \n",
       "1985-03-01           -0.049483                0.0                  0.000000   \n",
       "1985-02-01            0.504228                0.0                  0.000000   \n",
       "1985-01-01           -0.367882                0.0                  0.000000   \n",
       "\n",
       "            fishmeal_price_peru  peanutoil_price_global  \\\n",
       "date                                                      \n",
       "2022-06-01             0.000000                0.000000   \n",
       "2022-05-01             0.016131                0.000047   \n",
       "2022-04-01             0.005602               -0.000485   \n",
       "2022-03-01            -0.081597                0.003676   \n",
       "2022-02-01            -0.046882                0.138541   \n",
       "...                         ...                     ...   \n",
       "1985-05-01             0.000000                0.000000   \n",
       "1985-04-01             0.000000                0.000000   \n",
       "1985-03-01             0.000000                0.000000   \n",
       "1985-02-01             0.000000                0.000000   \n",
       "1985-01-01             0.000000                0.000000   \n",
       "\n",
       "            soybeanoil_price_global  sunfloweroil_price_global  \\\n",
       "date                                                             \n",
       "2022-06-01                 0.000000                   0.000000   \n",
       "2022-05-01                 0.113792                   0.098321   \n",
       "2022-04-01                -0.007861                   0.090283   \n",
       "2022-03-01                 0.004800                   0.036826   \n",
       "2022-02-01                -0.204014                  -0.454262   \n",
       "...                             ...                        ...   \n",
       "1985-05-01                 0.000000                   0.000000   \n",
       "1985-04-01                 0.000000                   0.000000   \n",
       "1985-03-01                 0.000000                   0.000000   \n",
       "1985-02-01                 0.000000                   0.000000   \n",
       "1985-01-01                 0.000000                   0.000000   \n",
       "\n",
       "            temperature_peru  precipitation_peru  fish_production_peru  \\\n",
       "date                                                                     \n",
       "2022-06-01          0.000000            0.000000              0.000000   \n",
       "2022-05-01          0.000000            0.000000              0.000000   \n",
       "2022-04-01          0.000000            0.000000             -0.039221   \n",
       "2022-03-01          0.000000            0.000000             -0.020203   \n",
       "2022-02-01          0.000000            0.000000             -0.020619   \n",
       "...                      ...                 ...                   ...   \n",
       "1985-05-01          0.051774            0.527306              0.000000   \n",
       "1985-04-01          0.025439           -0.039544              0.000000   \n",
       "1985-03-01          0.062869            0.229165              0.000000   \n",
       "1985-02-01         -0.022361            0.295648              0.000000   \n",
       "1985-01-01          0.003511           -0.797084              0.000000   \n",
       "\n",
       "            fish_human_consumption_peru  fish_industrial_consumption_peru  \\\n",
       "date                                                                        \n",
       "2022-06-01                     0.000000                          0.000000   \n",
       "2022-05-01                     0.000000                          0.000000   \n",
       "2022-04-01                     0.197565                         -3.712563   \n",
       "2022-03-01                    -0.071978                          0.349140   \n",
       "2022-02-01                    -0.062978                          0.114717   \n",
       "...                                 ...                               ...   \n",
       "1985-05-01                     0.000000                          0.000000   \n",
       "1985-04-01                     0.000000                          0.000000   \n",
       "1985-03-01                     0.000000                          0.000000   \n",
       "1985-02-01                     0.000000                          0.000000   \n",
       "1985-01-01                     0.000000                          0.000000   \n",
       "\n",
       "                 gdp  fishmeal_price_hamburg  fishoil_export_peru  \\\n",
       "date                                                                \n",
       "2022-06-01  0.000000                0.000000             0.000000   \n",
       "2022-05-01  0.000000                0.012453             0.000000   \n",
       "2022-04-01 -1.172411               -0.012958             0.000000   \n",
       "2022-03-01  0.035878               -0.026608             0.000000   \n",
       "2022-02-01  0.213405               -0.020735             0.000000   \n",
       "...              ...                     ...                  ...   \n",
       "1985-05-01  0.000000                0.000000             1.396245   \n",
       "1985-04-01  0.000000                0.000000             1.686582   \n",
       "1985-03-01  0.000000                0.000000            -0.234435   \n",
       "1985-02-01  0.000000                0.000000            -0.756528   \n",
       "1985-01-01  0.000000                0.000000             0.376235   \n",
       "\n",
       "            fishoil_fob_peru  fishoil_utilization_indicators  \\\n",
       "date                                                           \n",
       "2022-06-01          0.000000                        0.000000   \n",
       "2022-05-01          0.000000                        0.000000   \n",
       "2022-04-01          0.000000                       -3.693340   \n",
       "2022-03-01          0.000000                        0.325054   \n",
       "2022-02-01          0.000000                        0.095745   \n",
       "...                      ...                             ...   \n",
       "1985-05-01          1.386294                        0.000000   \n",
       "1985-04-01          1.338285                        0.000000   \n",
       "1985-03-01         -0.282232                        0.000000   \n",
       "1985-02-01         -0.252091                        0.000000   \n",
       "1985-01-01          0.006969                        0.000000   \n",
       "\n",
       "            fishing_hours_peru  \n",
       "date                            \n",
       "2022-06-01            0.000000  \n",
       "2022-05-01            0.000000  \n",
       "2022-04-01            0.028711  \n",
       "2022-03-01            0.131319  \n",
       "2022-02-01            0.016566  \n",
       "...                        ...  \n",
       "1985-05-01            0.000000  \n",
       "1985-04-01            0.000000  \n",
       "1985-03-01            0.000000  \n",
       "1985-02-01            0.000000  \n",
       "1985-01-01            0.000000  \n",
       "\n",
       "[450 rows x 18 columns]"
      ]
     },
     "execution_count": 58,
     "metadata": {},
     "output_type": "execute_result"
    }
   ],
   "source": [
    "# look for how many years we have all the features in total\n",
    "df"
   ]
  },
  {
   "cell_type": "code",
   "execution_count": 120,
   "metadata": {},
   "outputs": [],
   "source": [
    "# variable definitions\n",
    "num_epochs = 2000               # number of epochs\n",
    "learning_rate = 0.001           # 0.001 lr\n",
    "\n",
    "seq_length = 36                 # sequence length of sequence given to the LSTM layer\n",
    "pred_length = 12                # prediction length of output sequence produced by LSTM layer \n",
    "                                # (multiples of twelve since there is yearly seasonality)\n",
    "                                \n",
    "input_size = len(df.columns)    # number of features (amount of input variables)\n",
    "output_size = 1                 # size of output (peru fish oil price so just one variable)\n",
    "hidden_size = 32                # number of features in hidden state (this number should be treated as a hyperparameter)\n",
    "num_layers = 2                  # number of stacked lstm layers\n",
    "dropout = 0                     # probability for dropout cells\n",
    "\n",
    "num_classes = pred_length       # number of output classes "
   ]
  },
  {
   "cell_type": "code",
   "execution_count": 60,
   "metadata": {},
   "outputs": [],
   "source": [
    "# function to create list of sequences of length seq_length\n",
    "def create_series(data, data_prices, target):\n",
    "    # the amount of time-steps for which we have data\n",
    "    total_timesteps = len(data)\n",
    "\n",
    "    # arrays that hold the input sequences and the corresponding target sequences respectively.\n",
    "    sequencesX, sequencesY, sequencesZ = [], [], []\n",
    "    if (total_timesteps < seq_length + pred_length):\n",
    "        # verify that enough time-steps of the data are available to create input sequence with their corresponding targets.\n",
    "        raise Exception(\"This dataframe cannot be used to create sequences of length \" + str(seq_length + pred_length))\n",
    "    \n",
    "    # find the index of the target feature\n",
    "    index = data.columns.get_loc(target)\n",
    "\n",
    "    # create all possible sequences of length seq_length and their \n",
    "    for i in range(total_timesteps - seq_length - pred_length):\n",
    "        # append the input sequence\n",
    "        sequencesX.append(data.iloc[i:(i+seq_length), :])\n",
    "\n",
    "        # append the corresponding (target) output sequence\n",
    "        target_processed = data.iloc[(i+seq_length):(i+seq_length+pred_length), index:(index+1)]\n",
    "        sequencesY.append(target_processed)\n",
    "        \n",
    "        # target_prices = []\n",
    "        # for value in target_processed:\n",
    "        #     target_prices.append((np.e ** value) * y_test_prices[sequence])\n",
    "        # target_prices\n",
    "\n",
    "        # append price of last element of input sequence\n",
    "        sequencesZ.append(data_prices.iloc[i+seq_length-1])\n",
    "    \n",
    "    # return the sequences\n",
    "    return np.array(sequencesX), np.array(sequencesY), np.array(sequencesZ)"
   ]
  },
  {
   "cell_type": "markdown",
   "metadata": {},
   "source": [
    "In the following code block the X and y sets are created.\n",
    "\n",
    "The shape of `X` is as follows:<br>\n",
    "The element `X[s][i][j]` contains the value of the $j$'th input variable (out of the `len(df.columns)` different input variables) at the $i$'th time-step (out of the `seq_length` time-steps in the sequence) for the $s$'th sequence in the data set `X`.<br>\n",
    "\n",
    "The shape of `y` is as follows:<br>\n",
    "The element `y[s][i][0]` contains the value of the peru fish oil price (target) at the $i$'th time-step (out of the `pred_length` time-steps in the sequence) for the $s$'th sequence in the data set `y`.<br>\n",
    "The last zero-index is used because all the values are wrapped in length one arrays.\n"
   ]
  },
  {
   "cell_type": "code",
   "execution_count": 61,
   "metadata": {},
   "outputs": [
    {
     "name": "stdout",
     "output_type": "stream",
     "text": [
      "Training input/output shapes respectively: (189, 36, 18) (189, 12, 1)\n",
      "Testing input/output shapes respectively: (14, 36, 18) (14, 12, 1)\n"
     ]
    }
   ],
   "source": [
    "# split data into train and test sets\n",
    "training_set_p = 0.8\n",
    "\n",
    "df_cut_off = df[df.index > \"1996-12-01\"]\n",
    "df_prices_cut_off = df_prices[df_prices.index > \"1996-12-01\"]\n",
    "split_id = int(len(df_cut_off)*training_set_p)\n",
    "# TODO: May also need a validation set to determine optimal hyperparameters\n",
    "# df_train = df[(df.index > \"1996-12-01\") & (df.index < \"2010-01-01\")]    # use only past 1997 due to geopolitical changes\n",
    "# df_test = df[df.index >= \"2010-01-01\"]\n",
    "df_train = df_cut_off[:split_id]\n",
    "df_train = df_train[df_train.index < \"2021-12-01\"]\n",
    "df_train_prices = df_prices_cut_off[:split_id]\n",
    "df_test = df_cut_off[split_id:]\n",
    "df_test_prices = df_prices_cut_off[split_id:]\n",
    "\n",
    "'''\n",
    "Use validation set\n",
    "training_set_p = 0.6\n",
    "valid_set_p = 0.2\n",
    "\n",
    "df_cut_off = df[df.index > \"1996-12-01\"]\n",
    "train_split_id = int(len(df_cut_off)*training_set_p)\n",
    "val_set_id = int(len(df_cut_off)*valid_set_p)\n",
    "# TODO: May also need a validation set to determine optimal hyperparameters\n",
    "# df_train = df[(df.index > \"1996-12-01\") & (df.index < \"2010-01-01\")]    # use only past 1997 due to geopolitical changes\n",
    "# df_test = df[df.index >= \"2010-01-01\"]\n",
    "df_train = df_cut_off[:train_split_id]\n",
    "df_val = df_cut_off[train_split_id:train_split_id+val_set_id]\n",
    "df_test = df_cut_off[train_split_id+val_set_id:]\n",
    "'''\n",
    "\n",
    "# create the sequences to train on\n",
    "X_train, y_train, y_train_prices  = create_series(df_train, df_train_prices, 'fishoil_price_peru')\n",
    "\n",
    "# create the sequences to test on\n",
    "X_test, y_test, y_test_prices = create_series(df_test, df_test_prices, 'fishoil_price_peru')\n",
    "\n",
    "# target index\n",
    "target_index = df.columns.get_loc('fishoil_price_peru')\n",
    "\n",
    "# print shapes\n",
    "print(\"Training input/output shapes respectively:\", X_train.shape, y_train.shape)\n",
    "print(\"Testing input/output shapes respectively:\", X_test.shape, y_test.shape)"
   ]
  },
  {
   "cell_type": "markdown",
   "metadata": {},
   "source": [
    "The datasets are converted to PyTorch tensors and the shapes are printed.<br>\n",
    "The input shape is of the form `(nr_of_sequences, seq_length, input_size)`.<br>\n",
    "The output shape is of the form `(nr_of_sequences, pred_length, output_size)`.\n",
    "\n",
    "If this needs to be reshaped the `torch.reshape(data, shape)` function can be used."
   ]
  },
  {
   "cell_type": "code",
   "execution_count": 62,
   "metadata": {},
   "outputs": [
    {
     "name": "stdout",
     "output_type": "stream",
     "text": [
      "Training input/output shapes respectively: torch.Size([189, 36, 18]) torch.Size([189, 36, 18])\n",
      "Testing input/output shapes respectively: torch.Size([14, 36, 18]) torch.Size([14, 12])\n"
     ]
    }
   ],
   "source": [
    "# convert data to pytorch variables\n",
    "X_train_tensors = Variable(torch.Tensor(X_train))\n",
    "y_train_tensors = Variable(torch.Tensor(y_train))\n",
    "X_test_tensors = Variable(torch.Tensor(X_test))\n",
    "y_test_tensors = Variable(torch.Tensor(y_test)) \n",
    "\n",
    "# flatten the output tensors to remove unnecassary dimension\n",
    "y_train_tensors = torch.flatten(y_train_tensors, 1)\n",
    "y_test_tensors = torch.flatten(y_test_tensors, 1)\n",
    "\n",
    "# print shapes\n",
    "print(\"Training input/output shapes respectively:\", X_train_tensors.shape, X_train_tensors.shape)\n",
    "print(\"Testing input/output shapes respectively:\", X_test_tensors.shape, y_test_tensors.shape)"
   ]
  },
  {
   "cell_type": "markdown",
   "metadata": {},
   "source": [
    "The input size of the first fully connected layer is equal to `(hidden_size * seq_length)` because the LSTM outputs the hidden state (containing `hidden_size` variables) for every time-step in the input which contains `seq_length` time-steps. The output size of this layer is a hyperparameter for which a default of twice the amount of inputs is used.\n",
    "\n",
    "The lstm layer can also use an initial hidden state and initial cell state for each time-step in the sequence of `seq_length` but since these are not provided it defaults to zero.<br>\n",
    "See the input section of the <a url=https://pytorch.org/docs/stable/generated/torch.nn.LSTM.html>documentation</a> for more information.\n",
    "\n",
    "The output of the lstm layer is `output, (output_hidden_states, output_cell_states)` where `output` contains for every sequence in the provided `input` the hidden state at each time-step.<br>\n",
    "Furthermore, `output_hidden_states` and `output_cell_states` contain for every sequence the hidden state and cell state of the last time-step, respectively."
   ]
  },
  {
   "cell_type": "code",
   "execution_count": 63,
   "metadata": {},
   "outputs": [],
   "source": [
    "# definition of LSTM model\n",
    "class LSTM(nn.Module):\n",
    "    def __init__(self, num_classes, input_size, hidden_size, num_layers, dropout):\n",
    "        super(LSTM, self).__init__()\n",
    "        self.num_classes = num_classes      # number of classes\n",
    "        self.num_layers = num_layers        # number of layers\n",
    "        self.input_size = input_size        # input size\n",
    "        self.hidden_size = hidden_size      # hidden state\n",
    "\n",
    "        fc_1_input_size = hidden_size * seq_length\n",
    "        fc_1_output_size = hidden_size * seq_length * 2     # output size of first fully connected layer (hyperparameter)\n",
    "        \n",
    "        self.lstm = nn.LSTM(input_size=input_size, hidden_size=hidden_size, num_layers=num_layers, dropout=dropout, batch_first=True) # lstm\n",
    "        self.fc_1 = nn.Linear(fc_1_input_size, fc_1_output_size) # first fully connected layer\n",
    "        self.fc_2 = nn.Linear(fc_1_output_size, num_classes) # second fully connected layer\n",
    "\n",
    "        self.relu = nn.ReLU()\n",
    "    \n",
    "    def forward(self, input):\n",
    "        # propagate input through LSTM\n",
    "        output, (output_hidden_states, output_cell_states) = self.lstm(input) # retrieve output from lstm by providing input (the initial hidden and cell states can be set but default sets to zero)\n",
    "        flattened_output = torch.flatten(output) # flattened output\n",
    "        out = self.relu(flattened_output) # relu\n",
    "        out = self.fc_1(out) # first fully connected layer\n",
    "        out = self.relu(out) # relu\n",
    "        out = self.fc_2(out) # second fully connected layer\n",
    "        return out"
   ]
  },
  {
   "cell_type": "code",
   "execution_count": 64,
   "metadata": {},
   "outputs": [],
   "source": [
    "# create the lstm layer\n",
    "lstm = LSTM(num_classes, input_size, hidden_size, num_layers, dropout) # lstm layer"
   ]
  },
  {
   "cell_type": "code",
   "execution_count": 65,
   "metadata": {},
   "outputs": [],
   "source": [
    "# define the loss function and weight updating method\n",
    "criterion = torch.nn.MSELoss()    # mean-squared error for regression\n",
    "optimizer = torch.optim.Adam(lstm.parameters(), lr=learning_rate)"
   ]
  },
  {
   "cell_type": "code",
   "execution_count": 121,
   "metadata": {},
   "outputs": [
    {
     "name": "stderr",
     "output_type": "stream",
     "text": [
      "  1%|          | 1/100 [00:03<04:57,  3.00s/it]"
     ]
    },
    {
     "name": "stdout",
     "output_type": "stream",
     "text": [
      "Epoch: 0, loss: 0.03305\n"
     ]
    },
    {
     "name": "stderr",
     "output_type": "stream",
     "text": [
      " 11%|█         | 11/100 [00:31<04:19,  2.92s/it]"
     ]
    },
    {
     "name": "stdout",
     "output_type": "stream",
     "text": [
      "Epoch: 10, loss: 0.00327\n"
     ]
    },
    {
     "name": "stderr",
     "output_type": "stream",
     "text": [
      " 21%|██        | 21/100 [01:01<03:58,  3.02s/it]"
     ]
    },
    {
     "name": "stdout",
     "output_type": "stream",
     "text": [
      "Epoch: 20, loss: 0.00195\n"
     ]
    },
    {
     "name": "stderr",
     "output_type": "stream",
     "text": [
      " 31%|███       | 31/100 [01:32<03:30,  3.05s/it]"
     ]
    },
    {
     "name": "stdout",
     "output_type": "stream",
     "text": [
      "Epoch: 30, loss: 0.00132\n"
     ]
    },
    {
     "name": "stderr",
     "output_type": "stream",
     "text": [
      " 41%|████      | 41/100 [02:02<03:00,  3.06s/it]"
     ]
    },
    {
     "name": "stdout",
     "output_type": "stream",
     "text": [
      "Epoch: 40, loss: 0.00121\n"
     ]
    },
    {
     "name": "stderr",
     "output_type": "stream",
     "text": [
      " 51%|█████     | 51/100 [02:33<02:30,  3.08s/it]"
     ]
    },
    {
     "name": "stdout",
     "output_type": "stream",
     "text": [
      "Epoch: 50, loss: 0.00063\n"
     ]
    },
    {
     "name": "stderr",
     "output_type": "stream",
     "text": [
      " 61%|██████    | 61/100 [03:04<02:00,  3.08s/it]"
     ]
    },
    {
     "name": "stdout",
     "output_type": "stream",
     "text": [
      "Epoch: 60, loss: 0.00071\n"
     ]
    },
    {
     "name": "stderr",
     "output_type": "stream",
     "text": [
      " 71%|███████   | 71/100 [03:35<01:29,  3.08s/it]"
     ]
    },
    {
     "name": "stdout",
     "output_type": "stream",
     "text": [
      "Epoch: 70, loss: 0.00110\n"
     ]
    },
    {
     "name": "stderr",
     "output_type": "stream",
     "text": [
      " 81%|████████  | 81/100 [04:06<00:58,  3.10s/it]"
     ]
    },
    {
     "name": "stdout",
     "output_type": "stream",
     "text": [
      "Epoch: 80, loss: 0.00142\n"
     ]
    },
    {
     "name": "stderr",
     "output_type": "stream",
     "text": [
      " 91%|█████████ | 91/100 [04:37<00:27,  3.09s/it]"
     ]
    },
    {
     "name": "stdout",
     "output_type": "stream",
     "text": [
      "Epoch: 90, loss: 0.00083\n"
     ]
    },
    {
     "name": "stderr",
     "output_type": "stream",
     "text": [
      "100%|██████████| 100/100 [05:05<00:00,  3.05s/it]\n"
     ]
    }
   ],
   "source": [
    "# train the model\n",
    "def train_model(hidden_size, num_layers, dropout):\n",
    "  best_loss = np.inf\n",
    "  # create the lstm layer\n",
    "  lstm = LSTM(num_classes, input_size, hidden_size, num_layers, dropout) # lstm layer\n",
    "  criterion = torch.nn.MSELoss()    # mean-squared error for regression\n",
    "  optimizer = torch.optim.Adam(lstm.parameters(), lr=learning_rate)\n",
    "  losses = []\n",
    "  avg_losses = []\n",
    "  for epoch in trange(num_epochs):\n",
    "    # using batches of size 1\n",
    "    losses_during_epoch = []\n",
    "    for sequence in range(X_train_tensors.size(0)):\n",
    "      output = lstm.forward(X_train_tensors[sequence].unsqueeze(dim=0)) # forward pass\n",
    "      optimizer.zero_grad() # calculate the gradient, manually setting to 0\n",
    "      # obtain the loss function\n",
    "      loss = criterion(output, y_train_tensors[sequence])\n",
    "      loss.backward() # calculates the loss of the loss function\n",
    "      optimizer.step() # improve from loss, i.e backprop\n",
    "      losses_during_epoch.append(loss.item())\n",
    "    avg_losses.append(np.mean(losses_during_epoch))\n",
    "    losses.append(loss.item())\n",
    "    \n",
    "    # if average loss over the epoch is the lowest so far, update the model\n",
    "    if np.mean(losses_during_epoch) < best_loss:\n",
    "      best_loss = np.mean(losses_during_epoch)\n",
    "      best_model = lstm\n",
    "    if epoch % 10 == 0:\n",
    "      print(\"Epoch: %d, loss: %1.5f\" % (epoch, loss.item()))\n",
    "\n",
    "  if save:\n",
    "    save_location = \"../trained_models_seq_length={}/lstm_h={}_layers={}_dropout={}\".format(seq_length, hidden_size, num_layers, str(dropout == 0.5))\n",
    "  else:\n",
    "    save_location = \"../trained_models_temp/lstm_h={}_layers={}_dropout={}\".format(hidden_size, num_layers, str(dropout == 0.5))\n",
    "  \n",
    "  torch.save(best_model.state_dict(), save_location)\n",
    "  \n",
    "  return best_model, losses, avg_losses\n",
    "\n",
    "def calculate_mse(lstm):\n",
    "  '''Calculates the  MSE over the whole test set'''\n",
    "  # make predictions for the test set using lstm and baseline models and compute the losses\n",
    "  lstm_outputs = []\n",
    "  lstm_losses = []\n",
    "\n",
    "  # first sequence in test set are not used to ease baseline computation\n",
    "  for sequence in range(X_test_tensors.size(0)):\n",
    "      # output of lstm layer\n",
    "      lstm_output = lstm.forward(X_test_tensors[sequence].unsqueeze(dim=0))\n",
    "\n",
    "      # compute losses\n",
    "      loss_lstm = criterion(lstm_output, y_test_tensors[sequence])\n",
    "\n",
    "      # save the outputs\n",
    "      lstm_outputs.append(lstm_output.detach().numpy())\n",
    "\n",
    "      # save the losses\n",
    "      lstm_losses.append(loss_lstm.detach().numpy())\n",
    "  return np.mean(lstm_losses)\n",
    "\n",
    "def grid_search(hidden_size_list, num_layers_list, dropout_list):\n",
    "  '''Performs a grid search to find optimal hyperparameters'''\n",
    "  data_log = []\n",
    "  for hidden_size in hidden_size_list:\n",
    "    for num_layers in num_layers_list:\n",
    "      for dropout in dropout_list:\n",
    "        lstm, losses, avg_losses = train_model(hidden_size, num_layers, dropout)\n",
    "        avg_mse = calculate_mse(lstm)\n",
    "        data_log.append({'hidden dimensions': int(hidden_size), \n",
    "                          'lstm layers': int(num_layers), \n",
    "                          'dropout': float(dropout), \n",
    "                          'loss_list': losses, \n",
    "                          'avg_losses': avg_losses,\n",
    "                          'min_avg_losses': np.min(avg_losses), \n",
    "                          'avg mse': float(avg_mse)})\n",
    "  json_string = json.dumps(data_log)\n",
    "  if save:\n",
    "    f = open('grid_search_results_{}.json'.format(seq_length), 'w')\n",
    "  else:\n",
    "    f = open('grid_search_results_temp.json', 'w')\n",
    "  f.write(json_string)\n",
    "  f.close()\n",
    "\n",
    "# grid_search([2, 4, 8, 16], [1, 2], [0])\n",
    "lstm = train_model(16, 2, 0)[0]\n"
   ]
  },
  {
   "cell_type": "markdown",
   "metadata": {},
   "source": [
    "The past baseline predicts that the next 12 months of fish oil log ratios will be exactly those observed last year.<br>\n",
    "The repeat baselines predicts that the next 12 months of fish oil log ratios will all be equal to the last observed fish oil log ratio."
   ]
  },
  {
   "cell_type": "code",
   "execution_count": 69,
   "metadata": {},
   "outputs": [],
   "source": [
    "# load the results of the grid search\n",
    "if save:\n",
    "    results = pd.read_json('grid_search_results_{}.json'.format(seq_length))\n",
    "else:\n",
    "    results = pd.read_json('grid_search_results_temp.json')"
   ]
  },
  {
   "cell_type": "code",
   "execution_count": 70,
   "metadata": {},
   "outputs": [
    {
     "data": {
      "text/html": [
       "<div>\n",
       "<style scoped>\n",
       "    .dataframe tbody tr th:only-of-type {\n",
       "        vertical-align: middle;\n",
       "    }\n",
       "\n",
       "    .dataframe tbody tr th {\n",
       "        vertical-align: top;\n",
       "    }\n",
       "\n",
       "    .dataframe thead th {\n",
       "        text-align: right;\n",
       "    }\n",
       "</style>\n",
       "<table border=\"1\" class=\"dataframe\">\n",
       "  <thead>\n",
       "    <tr style=\"text-align: right;\">\n",
       "      <th></th>\n",
       "      <th>hidden dimensions</th>\n",
       "      <th>lstm layers</th>\n",
       "      <th>dropout</th>\n",
       "      <th>loss_list</th>\n",
       "      <th>avg_losses</th>\n",
       "      <th>min_avg_losses</th>\n",
       "      <th>avg mse</th>\n",
       "    </tr>\n",
       "  </thead>\n",
       "  <tbody>\n",
       "    <tr>\n",
       "      <th>0</th>\n",
       "      <td>16</td>\n",
       "      <td>2</td>\n",
       "      <td>0</td>\n",
       "      <td>[0.022718580439686, 0.027271181344985, 0.02707...</td>\n",
       "      <td>[0.047239191405644004, 0.043334761763233004, 0...</td>\n",
       "      <td>0.000666</td>\n",
       "      <td>0.070628</td>\n",
       "    </tr>\n",
       "  </tbody>\n",
       "</table>\n",
       "</div>"
      ],
      "text/plain": [
       "   hidden dimensions  lstm layers  dropout  \\\n",
       "0                 16            2        0   \n",
       "\n",
       "                                           loss_list  \\\n",
       "0  [0.022718580439686, 0.027271181344985, 0.02707...   \n",
       "\n",
       "                                          avg_losses  min_avg_losses   avg mse  \n",
       "0  [0.047239191405644004, 0.043334761763233004, 0...        0.000666  0.070628  "
      ]
     },
     "metadata": {},
     "output_type": "display_data"
    }
   ],
   "source": [
    "results = results.sort_values('min_avg_losses')\n",
    "display(results)"
   ]
  },
  {
   "cell_type": "code",
   "execution_count": 71,
   "metadata": {},
   "outputs": [
    {
     "data": {
      "text/plain": [
       "LSTM(\n",
       "  (lstm): LSTM(18, 16, num_layers=2, batch_first=True)\n",
       "  (fc_1): Linear(in_features=576, out_features=1152, bias=True)\n",
       "  (fc_2): Linear(in_features=1152, out_features=12, bias=True)\n",
       "  (relu): ReLU()\n",
       ")"
      ]
     },
     "execution_count": 71,
     "metadata": {},
     "output_type": "execute_result"
    }
   ],
   "source": [
    "optimal_params = results.iloc[0]\n",
    "lstm = LSTM(num_classes, input_size, optimal_params['hidden dimensions'], optimal_params['lstm layers'], 0)\n",
    "if save:\n",
    "    lstm.load_state_dict(torch.load(\"../trained_models_seq_length={}/lstm_h={}_layers={}_dropout={}\".format(seq_length, optimal_params['hidden dimensions'],\n",
    "                                                                            optimal_params['lstm layers'],\n",
    "                                                                            str(optimal_params['dropout'] == 0.5))))\n",
    "else:\n",
    "    lstm.load_state_dict(torch.load(\"../trained_models_temp/lstm_h={}_layers={}_dropout={}\".format(optimal_params['hidden dimensions'],\n",
    "                                                                            optimal_params['lstm layers'],\n",
    "                                                                            str(optimal_params['dropout'] == 0.5))))\n",
    "lstm.eval()"
   ]
  },
  {
   "cell_type": "code",
   "execution_count": 72,
   "metadata": {},
   "outputs": [
    {
     "data": {
      "text/plain": [
       "<All keys matched successfully>"
      ]
     },
     "execution_count": 72,
     "metadata": {},
     "output_type": "execute_result"
    }
   ],
   "source": [
    "lstm = LSTM(num_classes, input_size, 16, 2, 0)\n",
    "lstm.load_state_dict(torch.load(\"../trained_models_seq_length=36/lstm_h=16_layers=2_dropout=False\"))"
   ]
  },
  {
   "cell_type": "code",
   "execution_count": 122,
   "metadata": {},
   "outputs": [],
   "source": [
    "# make predictions for the test set using lstm and baseline models and compute the losses\n",
    "lstm_outputs = []\n",
    "baseline_past_outputs = []\n",
    "lstm_losses = []\n",
    "baseline_past_losses = []\n",
    "\n",
    "for sequence in range(X_test_tensors.size(0)):\n",
    "    # output of lstm layer\n",
    "    lstm_output = lstm.forward(X_test_tensors[sequence].unsqueeze(dim=0))\n",
    "\n",
    "    # output of baseline using past data\n",
    "    baseline_past_output = X_test_tensors[sequence][seq_length-pred_length:seq_length][:,0]\n",
    "\n",
    "    # compute losses\n",
    "    loss_lstm = criterion(lstm_output, y_test_tensors[sequence])\n",
    "    loss_baseline_past = criterion(baseline_past_output, y_test_tensors[sequence])\n",
    "\n",
    "    # save the outputs\n",
    "    lstm_outputs.append(lstm_output.detach().numpy())\n",
    "    baseline_past_outputs.append(baseline_past_output.numpy())\n",
    "\n",
    "    # save the losses\n",
    "    lstm_losses.append(loss_lstm.detach().numpy())\n",
    "    baseline_past_losses.append(loss_baseline_past.numpy())"
   ]
  },
  {
   "cell_type": "code",
   "execution_count": 123,
   "metadata": {},
   "outputs": [],
   "source": [
    "def get_ratios(sequence):\n",
    "    data = {'Target': y_test_tensors[sequence].numpy(), 'LSTM': lstm_outputs[sequence], 'Baseline': baseline_past_outputs[sequence]}\n",
    "    df_performance = pd.DataFrame(data)\n",
    "    return df_performance"
   ]
  },
  {
   "cell_type": "code",
   "execution_count": 124,
   "metadata": {},
   "outputs": [],
   "source": [
    "# plot the predictions using log ratios\n",
    "def plot_prediction_ratios(sequence):\n",
    "    # collect data and format\n",
    "    fig, axs = plt.subplots(figsize=(30, 5))\n",
    "    df_performance = get_ratios(sequence)\n",
    "\n",
    "    # plot \n",
    "    df_performance.plot(kind='line', y='Target', color='red', ax=axs)\n",
    "    df_performance.plot(kind='line', y='LSTM', color='green', ax=axs)\n",
    "    df_performance.plot(kind='line', y='Baseline', color='blue', ax=axs)\n",
    "    axs.set(xlabel='Month', ylabel='Log ratio')\n",
    "    axs.set_xticks(np.arange(0, pred_length, 1))"
   ]
  },
  {
   "cell_type": "code",
   "execution_count": 126,
   "metadata": {},
   "outputs": [],
   "source": [
    "def get_prices(sequence):\n",
    "    # collect data and format\n",
    "    data = {'Target': [(np.e ** y_test_tensors[sequence][0].item()) * y_test_prices[sequence]], 'LSTM': [(np.e ** lstm_outputs[sequence][0].item()) * y_test_prices[sequence]]}\n",
    "    df_performance = pd.DataFrame(data)\n",
    "    return df_performance"
   ]
  },
  {
   "cell_type": "code",
   "execution_count": 127,
   "metadata": {},
   "outputs": [],
   "source": [
    "def get_ratios(sequence):\n",
    "    # collect data and format\n",
    "    data = {'Target': [y_test_tensors[sequence][0].item()], 'LSTM': [lstm_outputs[sequence][0].item()]}\n",
    "    df_performance = pd.DataFrame(data)\n",
    "    return df_performance"
   ]
  },
  {
   "cell_type": "code",
   "execution_count": 128,
   "metadata": {},
   "outputs": [],
   "source": [
    "# plot the predictions using prices\n",
    "def plot_prediction_prices(sequence):\n",
    "    # get the price data\n",
    "    df_performance = get_prices(sequence)\n",
    "\n",
    "    # plot \n",
    "    fig, axs = plt.subplots(figsize=(30, 5))\n",
    "    df_performance.plot(kind='line', y='Target', color='red', ax=axs)\n",
    "    df_performance.plot(kind='line', y='LSTM', color='green', ax=axs)\n",
    "    axs.set(xlabel='Month', ylabel='Price')\n",
    "    axs.set_xticks(np.arange(0, pred_length, 1))"
   ]
  },
  {
   "cell_type": "code",
   "execution_count": 129,
   "metadata": {},
   "outputs": [
    {
     "data": {
      "text/html": [
       "<div>\n",
       "<style scoped>\n",
       "    .dataframe tbody tr th:only-of-type {\n",
       "        vertical-align: middle;\n",
       "    }\n",
       "\n",
       "    .dataframe tbody tr th {\n",
       "        vertical-align: top;\n",
       "    }\n",
       "\n",
       "    .dataframe thead th {\n",
       "        text-align: right;\n",
       "    }\n",
       "</style>\n",
       "<table border=\"1\" class=\"dataframe\">\n",
       "  <thead>\n",
       "    <tr style=\"text-align: right;\">\n",
       "      <th></th>\n",
       "      <th>LSTM loss</th>\n",
       "    </tr>\n",
       "  </thead>\n",
       "  <tbody>\n",
       "    <tr>\n",
       "      <th>0</th>\n",
       "      <td>0.060329635</td>\n",
       "    </tr>\n",
       "    <tr>\n",
       "      <th>1</th>\n",
       "      <td>0.054573298</td>\n",
       "    </tr>\n",
       "    <tr>\n",
       "      <th>2</th>\n",
       "      <td>0.0631946</td>\n",
       "    </tr>\n",
       "    <tr>\n",
       "      <th>3</th>\n",
       "      <td>0.070521414</td>\n",
       "    </tr>\n",
       "    <tr>\n",
       "      <th>4</th>\n",
       "      <td>0.07683682</td>\n",
       "    </tr>\n",
       "    <tr>\n",
       "      <th>5</th>\n",
       "      <td>0.06702372</td>\n",
       "    </tr>\n",
       "    <tr>\n",
       "      <th>6</th>\n",
       "      <td>0.08781732</td>\n",
       "    </tr>\n",
       "    <tr>\n",
       "      <th>7</th>\n",
       "      <td>0.07358252</td>\n",
       "    </tr>\n",
       "    <tr>\n",
       "      <th>8</th>\n",
       "      <td>0.063983254</td>\n",
       "    </tr>\n",
       "    <tr>\n",
       "      <th>9</th>\n",
       "      <td>0.060000494</td>\n",
       "    </tr>\n",
       "    <tr>\n",
       "      <th>10</th>\n",
       "      <td>0.07109175</td>\n",
       "    </tr>\n",
       "    <tr>\n",
       "      <th>11</th>\n",
       "      <td>0.06939372</td>\n",
       "    </tr>\n",
       "    <tr>\n",
       "      <th>12</th>\n",
       "      <td>0.070842914</td>\n",
       "    </tr>\n",
       "    <tr>\n",
       "      <th>13</th>\n",
       "      <td>0.052685022</td>\n",
       "    </tr>\n",
       "  </tbody>\n",
       "</table>\n",
       "</div>"
      ],
      "text/plain": [
       "      LSTM loss\n",
       "0   0.060329635\n",
       "1   0.054573298\n",
       "2     0.0631946\n",
       "3   0.070521414\n",
       "4    0.07683682\n",
       "5    0.06702372\n",
       "6    0.08781732\n",
       "7    0.07358252\n",
       "8   0.063983254\n",
       "9   0.060000494\n",
       "10   0.07109175\n",
       "11   0.06939372\n",
       "12  0.070842914\n",
       "13  0.052685022"
      ]
     },
     "execution_count": 129,
     "metadata": {},
     "output_type": "execute_result"
    }
   ],
   "source": [
    "df_losses = pd.DataFrame({'LSTM loss': lstm_losses})\n",
    "df_losses"
   ]
  },
  {
   "cell_type": "code",
   "execution_count": 130,
   "metadata": {},
   "outputs": [
    {
     "data": {
      "text/plain": [
       "<AxesSubplot:>"
      ]
     },
     "execution_count": 130,
     "metadata": {},
     "output_type": "execute_result"
    },
    {
     "data": {
      "image/png": "[encoded data removed]",
      "text/plain": [
       "<Figure size 432x288 with 1 Axes>"
      ]
     },
     "metadata": {
      "needs_background": "light"
     },
     "output_type": "display_data"
    }
   ],
   "source": [
    "frame = pd.DataFrame()\n",
    "for price in range(X_test_tensors.size(0)):\n",
    "    frame = pd.concat([frame, get_prices(price)])\n",
    "results_prices = frame.reset_index().drop('index', axis=1)\n",
    "\n",
    "results_prices.plot()"
   ]
  },
  {
   "cell_type": "code",
   "execution_count": 131,
   "metadata": {},
   "outputs": [
    {
     "data": {
      "text/plain": [
       "<AxesSubplot:>"
      ]
     },
     "execution_count": 131,
     "metadata": {},
     "output_type": "execute_result"
    },
    {
     "data": {
      "image/png": "[encoded data removed]",
      "text/plain": [
       "<Figure size 432x288 with 1 Axes>"
      ]
     },
     "metadata": {
      "needs_background": "light"
     },
     "output_type": "display_data"
    }
   ],
   "source": [
    "frame = pd.DataFrame()\n",
    "for ratio in range(X_test_tensors.size(0)):\n",
    "    frame = pd.concat([frame, get_ratios(ratio)])\n",
    "results_ratios = frame.reset_index().drop('index', axis=1)\n",
    "\n",
    "results_ratios.plot()"
   ]
  },
  {
   "cell_type": "code",
   "execution_count": 83,
   "metadata": {},
   "outputs": [],
   "source": [
    "def mape(actual,forecast):\n",
    "    APE=[]\n",
    "    for day in range(len(actual)):\n",
    "        per_err = abs((actual[day] - forecast[day]) / actual[day])\n",
    "        APE.append(per_err)\n",
    "    print(APE)\n",
    "    MAPE = sum(APE)/len(APE)\n",
    "    return (MAPE)"
   ]
  },
  {
   "cell_type": "code",
   "execution_count": 84,
   "metadata": {},
   "outputs": [
    {
     "data": {
      "text/html": [
       "<div>\n",
       "<style scoped>\n",
       "    .dataframe tbody tr th:only-of-type {\n",
       "        vertical-align: middle;\n",
       "    }\n",
       "\n",
       "    .dataframe tbody tr th {\n",
       "        vertical-align: top;\n",
       "    }\n",
       "\n",
       "    .dataframe thead th {\n",
       "        text-align: right;\n",
       "    }\n",
       "</style>\n",
       "<table border=\"1\" class=\"dataframe\">\n",
       "  <thead>\n",
       "    <tr style=\"text-align: right;\">\n",
       "      <th></th>\n",
       "      <th>Target</th>\n",
       "      <th>LSTM</th>\n",
       "    </tr>\n",
       "  </thead>\n",
       "  <tbody>\n",
       "    <tr>\n",
       "      <th>0</th>\n",
       "      <td>447.000005</td>\n",
       "      <td>296.854275</td>\n",
       "    </tr>\n",
       "    <tr>\n",
       "      <th>1</th>\n",
       "      <td>411.700001</td>\n",
       "      <td>372.483263</td>\n",
       "    </tr>\n",
       "    <tr>\n",
       "      <th>2</th>\n",
       "      <td>469.399997</td>\n",
       "      <td>496.273673</td>\n",
       "    </tr>\n",
       "    <tr>\n",
       "      <th>3</th>\n",
       "      <td>522.900001</td>\n",
       "      <td>386.829870</td>\n",
       "    </tr>\n",
       "    <tr>\n",
       "      <th>4</th>\n",
       "      <td>514.000000</td>\n",
       "      <td>504.993794</td>\n",
       "    </tr>\n",
       "    <tr>\n",
       "      <th>5</th>\n",
       "      <td>516.300000</td>\n",
       "      <td>381.185871</td>\n",
       "    </tr>\n",
       "    <tr>\n",
       "      <th>6</th>\n",
       "      <td>801.800003</td>\n",
       "      <td>492.273980</td>\n",
       "    </tr>\n",
       "    <tr>\n",
       "      <th>7</th>\n",
       "      <td>548.800003</td>\n",
       "      <td>663.544537</td>\n",
       "    </tr>\n",
       "    <tr>\n",
       "      <th>8</th>\n",
       "      <td>653.800005</td>\n",
       "      <td>538.416626</td>\n",
       "    </tr>\n",
       "    <tr>\n",
       "      <th>9</th>\n",
       "      <td>664.800001</td>\n",
       "      <td>614.665997</td>\n",
       "    </tr>\n",
       "    <tr>\n",
       "      <th>10</th>\n",
       "      <td>609.600002</td>\n",
       "      <td>761.129394</td>\n",
       "    </tr>\n",
       "    <tr>\n",
       "      <th>11</th>\n",
       "      <td>493.099999</td>\n",
       "      <td>532.746679</td>\n",
       "    </tr>\n",
       "    <tr>\n",
       "      <th>12</th>\n",
       "      <td>760.400001</td>\n",
       "      <td>454.678870</td>\n",
       "    </tr>\n",
       "    <tr>\n",
       "      <th>13</th>\n",
       "      <td>489.899999</td>\n",
       "      <td>613.692031</td>\n",
       "    </tr>\n",
       "  </tbody>\n",
       "</table>\n",
       "</div>"
      ],
      "text/plain": [
       "        Target        LSTM\n",
       "0   447.000005  296.854275\n",
       "1   411.700001  372.483263\n",
       "2   469.399997  496.273673\n",
       "3   522.900001  386.829870\n",
       "4   514.000000  504.993794\n",
       "5   516.300000  381.185871\n",
       "6   801.800003  492.273980\n",
       "7   548.800003  663.544537\n",
       "8   653.800005  538.416626\n",
       "9   664.800001  614.665997\n",
       "10  609.600002  761.129394\n",
       "11  493.099999  532.746679\n",
       "12  760.400001  454.678870\n",
       "13  489.899999  613.692031"
      ]
     },
     "execution_count": 84,
     "metadata": {},
     "output_type": "execute_result"
    }
   ],
   "source": [
    "results_prices"
   ]
  },
  {
   "cell_type": "code",
   "execution_count": 87,
   "metadata": {},
   "outputs": [
    {
     "name": "stdout",
     "output_type": "stream",
     "text": [
      "[0.3358964832341823, 0.09525561885520586, 0.05725112149776981, 0.2602220892792226, 0.01752180079544532, 0.26169693747435796, 0.3860389400822081, 0.20908260414545662, 0.17648115313411042, 0.07541215956743309, 0.24857183726306153, 0.08040292078702675, 0.40205303810741716, 0.2526883696384835]\n"
     ]
    },
    {
     "data": {
      "text/plain": [
       "0.2041839338472415"
      ]
     },
     "execution_count": 87,
     "metadata": {},
     "output_type": "execute_result"
    }
   ],
   "source": [
    "mape(results_prices['Target'], results_prices['LSTM'])"
   ]
  },
  {
   "cell_type": "code",
   "execution_count": 86,
   "metadata": {},
   "outputs": [
    {
     "name": "stdout",
     "output_type": "stream",
     "text": [
      "[1.0020255573683827, 1.2168535025316898, 0.42445951623388356, 2.792471138351263, 1.0297168649534256, 67.95508966641069, 1.1082591499011998, 0.5007895402115251, 1.1091089252008073, 4.699334316265026, 2.5610530711998107, 0.36462669955787136, 1.1872881406079285, 0.512442531451028]\n"
     ]
    },
    {
     "data": {
      "text/plain": [
       "6.175965615731752"
      ]
     },
     "execution_count": 86,
     "metadata": {},
     "output_type": "execute_result"
    }
   ],
   "source": [
    "mape(results_ratios['Target'], results_ratios['LSTM'])"
   ]
  }
 ],
 "metadata": {
  "kernelspec": {
   "display_name": "Python 3.9.13 64-bit (windows store)",
   "language": "python",
   "name": "python3"
  },
  "language_info": {
   "codemirror_mode": {
    "name": "ipython",
    "version": 3
   },
   "file_extension": ".py",
   "mimetype": "text/x-python",
   "name": "python",
   "nbconvert_exporter": "python",
   "pygments_lexer": "ipython3",
   "version": "3.9.13"
  },
  "orig_nbformat": 4,
  "vscode": {
   "interpreter": {
    "hash": "1fc28af60476edc3e27144daec4d860a5bfd0f3e7bdb17e7edfc0e13d60e755d"
   }
  }
 },
 "nbformat": 4,
 "nbformat_minor": 2
}
