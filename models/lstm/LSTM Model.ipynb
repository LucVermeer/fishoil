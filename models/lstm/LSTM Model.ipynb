{
 "cells": [
  {
   "cell_type": "markdown",
   "metadata": {},
   "source": [
    "Link to article containing original code: <url>https://cnvrg.io/pytorch-lstm/</url><br>\n",
    "Most of the code is different due to mistakes present in original code."
   ]
  },
  {
   "cell_type": "code",
   "execution_count": 67,
   "metadata": {},
   "outputs": [],
   "source": [
    "# imports\n",
    "import torch as torch\n",
    "import torch.nn as nn\n",
    "from torch.autograd import Variable \n",
    "import numpy as np\n",
    "import pandas as pd\n",
    "import matplotlib.pyplot as plt\n",
    "import random"
   ]
  },
  {
   "cell_type": "code",
   "execution_count": 68,
   "metadata": {},
   "outputs": [
    {
     "data": {
      "text/html": [
       "<div>\n",
       "<style scoped>\n",
       "    .dataframe tbody tr th:only-of-type {\n",
       "        vertical-align: middle;\n",
       "    }\n",
       "\n",
       "    .dataframe tbody tr th {\n",
       "        vertical-align: top;\n",
       "    }\n",
       "\n",
       "    .dataframe thead th {\n",
       "        text-align: right;\n",
       "    }\n",
       "</style>\n",
       "<table border=\"1\" class=\"dataframe\">\n",
       "  <thead>\n",
       "    <tr style=\"text-align: right;\">\n",
       "      <th></th>\n",
       "      <th>fishoil_price_peru</th>\n",
       "    </tr>\n",
       "    <tr>\n",
       "      <th>date</th>\n",
       "      <th></th>\n",
       "    </tr>\n",
       "  </thead>\n",
       "  <tbody>\n",
       "    <tr>\n",
       "      <th>2022-06-01</th>\n",
       "      <td>0.000000</td>\n",
       "    </tr>\n",
       "    <tr>\n",
       "      <th>2022-05-01</th>\n",
       "      <td>0.000000</td>\n",
       "    </tr>\n",
       "    <tr>\n",
       "      <th>2022-04-01</th>\n",
       "      <td>0.000000</td>\n",
       "    </tr>\n",
       "    <tr>\n",
       "      <th>2022-03-01</th>\n",
       "      <td>0.000000</td>\n",
       "    </tr>\n",
       "    <tr>\n",
       "      <th>2022-02-01</th>\n",
       "      <td>0.000000</td>\n",
       "    </tr>\n",
       "    <tr>\n",
       "      <th>...</th>\n",
       "      <td>...</td>\n",
       "    </tr>\n",
       "    <tr>\n",
       "      <th>1985-05-01</th>\n",
       "      <td>0.001269</td>\n",
       "    </tr>\n",
       "    <tr>\n",
       "      <th>1985-04-01</th>\n",
       "      <td>-0.343536</td>\n",
       "    </tr>\n",
       "    <tr>\n",
       "      <th>1985-03-01</th>\n",
       "      <td>-0.049483</td>\n",
       "    </tr>\n",
       "    <tr>\n",
       "      <th>1985-02-01</th>\n",
       "      <td>0.504228</td>\n",
       "    </tr>\n",
       "    <tr>\n",
       "      <th>1985-01-01</th>\n",
       "      <td>-0.367882</td>\n",
       "    </tr>\n",
       "  </tbody>\n",
       "</table>\n",
       "<p>450 rows × 1 columns</p>\n",
       "</div>"
      ],
      "text/plain": [
       "            fishoil_price_peru\n",
       "date                          \n",
       "2022-06-01            0.000000\n",
       "2022-05-01            0.000000\n",
       "2022-04-01            0.000000\n",
       "2022-03-01            0.000000\n",
       "2022-02-01            0.000000\n",
       "...                        ...\n",
       "1985-05-01            0.001269\n",
       "1985-04-01           -0.343536\n",
       "1985-03-01           -0.049483\n",
       "1985-02-01            0.504228\n",
       "1985-01-01           -0.367882\n",
       "\n",
       "[450 rows x 1 columns]"
      ]
     },
     "execution_count": 68,
     "metadata": {},
     "output_type": "execute_result"
    }
   ],
   "source": [
    "# read processed data\n",
    "df = pd.read_csv('../../dataframes/monthly_processed.csv', index_col='date', parse_dates=True)\n",
    "df = df[['fishoil_price_peru']]\n",
    "df"
   ]
  },
  {
   "cell_type": "code",
   "execution_count": 69,
   "metadata": {},
   "outputs": [],
   "source": [
    "# variable definitions\n",
    "num_epochs = 1                  # number of epochs\n",
    "learning_rate = 0.001           # 0.001 lr\n",
    "\n",
    "seq_length = 36                 # sequence length of sequence given to the LSTM layer\n",
    "pred_length = 12                # prediction length of output sequence produced by LSTM layer \n",
    "                                # (multiples of twelve since there is yearly seasonality)\n",
    "\n",
    "input_size = len(df.columns)    # number of features (amount of input variables)\n",
    "output_size = 1                 # size of output (peru fish oil price so just one variable)\n",
    "hidden_size = 1                 # number of features in hidden state (this number should be treated as a hyperparameter)\n",
    "num_layers = 1                  # number of stacked lstm layers\n",
    "\n",
    "num_classes = pred_length       # number of output classes "
   ]
  },
  {
   "cell_type": "code",
   "execution_count": 70,
   "metadata": {},
   "outputs": [],
   "source": [
    "# function to create list of sequences of length seq_length\n",
    "def create_series(data):\n",
    "    # the amount of time-steps for which we have data\n",
    "    total_timesteps = len(data)\n",
    "\n",
    "    # arrays that hold the input sequences and the corresponding target sequences respectively.\n",
    "    sequencesX, sequencesY = [], []\n",
    "    if (total_timesteps < seq_length + pred_length):\n",
    "        # verify that enough time-steps of the data are available to create input sequence with their corresponding targets.\n",
    "        raise Exception(\"This dataframe cannot be used to create sequences of length \" + str(seq_length + pred_length))\n",
    "    \n",
    "    # create all possible sequences of length seq_length and their \n",
    "    for i in range(total_timesteps - seq_length - pred_length):\n",
    "        # append the input sequence\n",
    "        sequencesX.append(data.iloc[i:(i+seq_length), :])\n",
    "        # append the corresponding (target) output sequence\n",
    "        sequencesY.append(data.iloc[(i+seq_length):(i+seq_length+pred_length), 0:1])\n",
    "    \n",
    "    # return the sequences\n",
    "    return np.array(sequencesX), np.array(sequencesY)"
   ]
  },
  {
   "cell_type": "markdown",
   "metadata": {},
   "source": [
    "In the following code block the X and y sets are created.\n",
    "\n",
    "The shape of `X` is as follows:<br>\n",
    "The element `X[s][i][j]` contains the value of the $j$'th input variable (out of the `len(df.columns)` different input variables) at the $i$'th time-step (out of the `seq_length` time-steps in the sequence) for the $s$'th sequence in the data set `X`.<br>\n",
    "\n",
    "The shape of `y` is as follows:<br>\n",
    "The element `y[s][i][0]` contains the value of the peru fish oil price (target) at the $i$'th time-step (out of the `pred_length` time-steps in the sequence) for the $s$'th sequence in the data set `y`.<br>\n",
    "The last zero-index is used because all the values are wrapped in length one arrays.\n"
   ]
  },
  {
   "cell_type": "code",
   "execution_count": 71,
   "metadata": {},
   "outputs": [
    {
     "name": "stdout",
     "output_type": "stream",
     "text": [
      "Training input/output shapes respectively: (108, 36, 1) (108, 12, 1)\n",
      "Testing input/output shapes respectively: (102, 36, 1) (102, 12, 1)\n"
     ]
    }
   ],
   "source": [
    "# split data into train and test sets\n",
    "# TODO: May also need a validation set to determine optimal hyperparameters\n",
    "df_train = df[(df.index > \"1996-12-01\") & (df.index < \"2010-01-01\")]    # use only past 1997 due to geopolitical changes\n",
    "df_test = df[df.index >= \"2010-01-01\"]\n",
    "\n",
    "# create the sequences to train on\n",
    "X_train, y_train = create_series(df_train)\n",
    "\n",
    "# create the sequences to test on\n",
    "X_test, y_test = create_series(df_test)\n",
    "\n",
    "# print shapes\n",
    "print(\"Training input/output shapes respectively:\", X_train.shape, y_train.shape)\n",
    "print(\"Testing input/output shapes respectively:\", X_test.shape, y_test.shape) "
   ]
  },
  {
   "cell_type": "markdown",
   "metadata": {},
   "source": [
    "The datasets are converted to PyTorch tensors and the shapes are printed.<br>\n",
    "The input shape is of the form `(nr_of_sequences, seq_length, input_size)`.<br>\n",
    "The output shape is of the form `(nr_of_sequences, pred_length, output_size)`.\n",
    "\n",
    "If this needs to be reshaped the `torch.reshape(data, shape)` function can be used."
   ]
  },
  {
   "cell_type": "code",
   "execution_count": 72,
   "metadata": {},
   "outputs": [
    {
     "name": "stdout",
     "output_type": "stream",
     "text": [
      "Training input/output shapes respectively: torch.Size([108, 36, 1]) torch.Size([108, 12])\n",
      "Testing input/output shapes respectively: torch.Size([102, 36, 1]) torch.Size([102, 12])\n"
     ]
    }
   ],
   "source": [
    "# convert data to pytorch variables\n",
    "X_train_tensors = Variable(torch.Tensor(X_train))\n",
    "y_train_tensors = Variable(torch.Tensor(y_train))\n",
    "X_test_tensors = Variable(torch.Tensor(X_test))\n",
    "y_test_tensors = Variable(torch.Tensor(y_test)) \n",
    "\n",
    "# flatten the output tensors to remove unnecassary dimension\n",
    "y_train_tensors = torch.flatten(y_train_tensors, 1)\n",
    "y_test_tensors =  torch.flatten(y_test_tensors, 1)\n",
    "\n",
    "# print shapes\n",
    "print(\"Training input/output shapes respectively:\", X_train_tensors.shape, y_train_tensors.shape)\n",
    "print(\"Testing input/output shapes respectively:\", X_test_tensors.shape, y_test_tensors.shape) "
   ]
  },
  {
   "cell_type": "markdown",
   "metadata": {},
   "source": [
    "The input size of the first fully connected layer is equal to `(hidden_size * seq_length)` because the LSTM outputs the hidden state (containing `hidden_size` variables) for every time-step in the input which contains `seq_length` time-steps. The output size of this layer is a hyperparameter for which a default of twice the amount of inputs is used.\n",
    "\n",
    "The lstm layer can also use an initial hidden state and initial cell state for each time-step in the sequence of `seq_length` but since these are not provided it defaults to zero.<br>\n",
    "See the input section of the <a url=https://pytorch.org/docs/stable/generated/torch.nn.LSTM.html>documentation</a> for more information.\n",
    "\n",
    "The output of the lstm layer is `output, (output_hidden_states, output_cell_states)` where `output` contains for every sequence in the provided `input` the hidden state at each time-step.<br>\n",
    "Furthermore, `output_hidden_states` and `output_cell_states` contain for every sequence the hidden state and cell state of the last time-step, respectively."
   ]
  },
  {
   "cell_type": "code",
   "execution_count": 73,
   "metadata": {},
   "outputs": [],
   "source": [
    "# definition of LSTM model\n",
    "class LSTM(nn.Module):\n",
    "    def __init__(self, num_classes, input_size, hidden_size, num_layers):\n",
    "        super(LSTM, self).__init__()\n",
    "        self.num_classes = num_classes      # number of classes\n",
    "        self.num_layers = num_layers        # number of layers\n",
    "        self.input_size = input_size        # input size\n",
    "        self.hidden_size = hidden_size      # hidden state\n",
    "\n",
    "        fc_1_input_size = hidden_size * seq_length\n",
    "        fc_1_output_size = hidden_size * seq_length // 2     # output size of first fully connected layer (hyperparameter)\n",
    "\n",
    "        self.lstm = nn.LSTM(input_size=input_size, hidden_size=hidden_size, num_layers=num_layers, batch_first=True) # lstm\n",
    "        self.fc_1 = nn.Linear(fc_1_input_size, fc_1_output_size) # first fully connected layer\n",
    "        self.fc_2 = nn.Linear(fc_1_output_size, num_classes) # second fully connected layer\n",
    "\n",
    "        self.relu = nn.ReLU()\n",
    "    \n",
    "    def forward(self, input):\n",
    "        # propagate input through LSTM\n",
    "        output, (output_hidden_states, output_cell_states) = self.lstm(input) # retrieve output from lstm by providing input (the initial hidden and cell states can be set but default sets to zero)\n",
    "        flattened_output = torch.flatten(output) # flattened output\n",
    "        out = self.relu(flattened_output) # relu\n",
    "        out = self.fc_1(out) # first fully connected layer\n",
    "        out = self.relu(out) # relu\n",
    "        out = self.fc_2(out) # second fully connected layer\n",
    "        return out"
   ]
  },
  {
   "cell_type": "code",
   "execution_count": 74,
   "metadata": {},
   "outputs": [],
   "source": [
    "# instantiate the model \n",
    "model = LSTM(num_classes, input_size, hidden_size, num_layers) # lstm layer\n",
    "\n",
    "# model = nn.Sequential(nn.Linear(seq_length * input_size, seq_length),\n",
    "#                       nn.ReLU(),\n",
    "#                       nn.Linear(seq_length, num_classes))"
   ]
  },
  {
   "cell_type": "code",
   "execution_count": 75,
   "metadata": {},
   "outputs": [],
   "source": [
    "# define the loss function and weight updating method\n",
    "criterion = torch.nn.L1Loss()    # mean-squared error for regression\n",
    "optimizer = torch.optim.Adam(model.parameters(), lr=learning_rate) "
   ]
  },
  {
   "cell_type": "code",
   "execution_count": 76,
   "metadata": {},
   "outputs": [
    {
     "name": "stdout",
     "output_type": "stream",
     "text": [
      "Epoch: 0, loss: 0.16526\n"
     ]
    }
   ],
   "source": [
    "# train the model\n",
    "for epoch in range(num_epochs):\n",
    "  # using batches of size 1\n",
    "  for sequence in range(X_train_tensors.size(0)):\n",
    "    output = model.forward(X_train_tensors[sequence]) # forward pass\n",
    "    optimizer.zero_grad() # calculate the gradient, manually setting to 0\n",
    "  \n",
    "    # obtain the loss function\n",
    "    loss = criterion(output, y_train_tensors[sequence])\n",
    "  \n",
    "    loss.backward() # calculates the loss of the loss function\n",
    "  \n",
    "    optimizer.step() # improve from loss, i.e backprop\n",
    "  if epoch % 10 == 0:\n",
    "    print(\"Epoch: %d, loss: %1.5f\" % (epoch, loss.item())) "
   ]
  },
  {
   "cell_type": "markdown",
   "metadata": {},
   "source": [
    "The past baseline predicts that the next 12 months of fish oil log ratios will be exactly those observed last year.<br>\n",
    "The repeat baselines predicts that the next 12 months of fish oil log ratios will all be equal to the last observed fish oil log ratio."
   ]
  },
  {
   "cell_type": "code",
   "execution_count": 77,
   "metadata": {},
   "outputs": [],
   "source": [
    "# make predictions for the test set using lstm and baseline models and compute the losses\n",
    "lstm_outputs = []\n",
    "baseline_past_outputs = []\n",
    "lstm_losses = []\n",
    "baseline_past_losses = []\n",
    "\n",
    "# first sequence in test set are not used to ease baseline computation\n",
    "for sequence in range(1, X_test_tensors.size(0)):\n",
    "    # output of lstm layer\n",
    "    lstm_output = model.forward(X_test_tensors[sequence])\n",
    "\n",
    "    # output of baseline using past data\n",
    "    baseline_past_output = y_test_tensors[sequence-pred_length]\n",
    "\n",
    "    # compute losses\n",
    "    loss_lstm = criterion(lstm_output, y_test_tensors[sequence])\n",
    "    loss_baseline_past = criterion(baseline_past_output, y_test_tensors[sequence])\n",
    "\n",
    "    # save the outputs\n",
    "    lstm_outputs.append(lstm_output.detach().numpy())\n",
    "    baseline_past_outputs.append(baseline_past_output.numpy())\n",
    "\n",
    "    # save the losses\n",
    "    lstm_losses.append(loss_lstm.detach().numpy())\n",
    "    baseline_past_losses.append(loss_baseline_past.numpy())"
   ]
  },
  {
   "cell_type": "code",
   "execution_count": 86,
   "metadata": {},
   "outputs": [
    {
     "name": "stdout",
     "output_type": "stream",
     "text": [
      "Model loss: 0.14615741\n",
      "Baseline past loss: 0.17305915\n"
     ]
    },
    {
     "data": {
      "image/png": "[encoded data removed]",
      "text/plain": [
       "<Figure size 2160x360 with 2 Axes>"
      ]
     },
     "metadata": {
      "needs_background": "light"
     },
     "output_type": "display_data"
    }
   ],
   "source": [
    "# get a random sequence from the test set\n",
    "random_test_sequence = random.randint(1, X_test_tensors.size(0) - 1)\n",
    "\n",
    "# plot lstm and baseline outputs for the random sequence and compare to expected output\n",
    "data = {'Target': y_test_tensors[random_test_sequence].numpy(), 'LSTM': lstm_outputs[random_test_sequence-1], 'Baseline past data': baseline_past_outputs[random_test_sequence-1]}\n",
    "df_performance = pd.DataFrame(data)\n",
    "\n",
    "# plot all data\n",
    "fig, axs = plt.subplots(1, 2, figsize=(30, 5))\n",
    "\n",
    "df_performance.plot(kind='line', y='Target', color='green', ax=axs[0])\n",
    "df_performance.plot(kind='line', y='LSTM', color='blue', ax=axs[0])\n",
    "df_performance.plot(kind='line', y='Baseline past data', color='red', ax=axs[0])\n",
    "axs[0].set(xlabel='Month', ylabel='Log ratio')\n",
    "axs[0].set_xticks(np.arange(0, pred_length, 1))\n",
    "\n",
    "# print losses \n",
    "print(\"Model loss:\", lstm_losses[random_test_sequence-1])\n",
    "print(\"Baseline past loss:\", baseline_past_losses[random_test_sequence-1])"
   ]
  },
  {
   "cell_type": "code",
   "execution_count": 79,
   "metadata": {},
   "outputs": [
    {
     "name": "stdout",
     "output_type": "stream",
     "text": [
      "LSTM loss: 0.1736068\n",
      "Baseline past loss: 0.2295297\n"
     ]
    },
    {
     "data": {
      "image/png": "[encoded data removed]",
      "text/plain": [
       "<Figure size 2160x360 with 2 Axes>"
      ]
     },
     "metadata": {
      "needs_background": "light"
     },
     "output_type": "display_data"
    }
   ],
   "source": [
    "# get a random sequence from the test set\n",
    "random_test_sequence = random.randint(1, X_test_tensors.size(0) - 1)\n",
    "\n",
    "# plot lstm and baseline outputs for the random sequence and compare to expected output\n",
    "data = {'Target': y_test_tensors[random_test_sequence].numpy(), 'LSTM': lstm_outputs[random_test_sequence-1], 'Baseline past data': baseline_past_outputs[random_test_sequence-1]}\n",
    "df_performance = pd.DataFrame(data)\n",
    "\n",
    "# plot all data\n",
    "fig, axs = plt.subplots(1, 2, figsize=(30, 5))\n",
    "\n",
    "for (model, color) in zip(['Target', 'LSTM', 'Baseline past data'], ['green', 'blue', 'red']):\n",
    "    for i in range(len(data[model])):\n",
    "        output = data[model][i]\n",
    "        axs[0].plot(i, output, color=color,\n",
    "                marker = '.',\n",
    "                markerfacecolor=color,\n",
    "                markeredgecolor=color,\n",
    "                fillstyle = 'full',\n",
    "                label=i)\n",
    "axs[0].set(xlabel='Month', ylabel='Log ratio')\n",
    "axs[0].set_xticks(np.arange(0, 12, 1))\n",
    "\n",
    "# print losses \n",
    "print(\"LSTM loss:\", lstm_losses[random_test_sequence-1])\n",
    "print(\"Baseline past loss:\", baseline_past_losses[random_test_sequence-1])"
   ]
  },
  {
   "cell_type": "markdown",
   "metadata": {},
   "source": [
    "Possible factors holding back model performance:\n",
    "- provided features do not give enough information \n",
    "- target output could be wrong (prediction length)\n",
    "- layers of the model do not extract information from the features correctly\n",
    "    - no use of normalization between layers\n",
    "    - wrong layers are used and possibly too few\n",
    "    - wrong hyperparameter values are used\n",
    "- training is not done correctly   \n",
    "    - no useage of batches\n",
    "    - different loss function may be better\n"
   ]
  }
 ],
 "metadata": {
  "kernelspec": {
   "display_name": "Python 3.10.6 64-bit",
   "language": "python",
   "name": "python3"
  },
  "language_info": {
   "codemirror_mode": {
    "name": "ipython",
    "version": 3
   },
   "file_extension": ".py",
   "mimetype": "text/x-python",
   "name": "python",
   "nbconvert_exporter": "python",
   "pygments_lexer": "ipython3",
   "version": "3.10.6"
  },
  "orig_nbformat": 4,
  "vscode": {
   "interpreter": {
    "hash": "95cdb06e919eab5e2c554174537356ac9b55200d1eb6f880dc25de04343a18ea"
   }
  }
 },
 "nbformat": 4,
 "nbformat_minor": 2
}
