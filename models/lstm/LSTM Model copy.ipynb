{
 "cells": [
  {
   "cell_type": "markdown",
   "metadata": {},
   "source": [
    "Link to article containing original code: <url>https://cnvrg.io/pytorch-lstm/</url><br>\n",
    "Most of the code is different due to mistakes present in original code."
   ]
  },
  {
   "cell_type": "code",
   "execution_count": 67,
   "metadata": {},
   "outputs": [],
   "source": [
    "# imports\n",
    "import torch as torch\n",
    "import torch.nn as nn\n",
    "from torch.autograd import Variable \n",
    "import numpy as np\n",
    "import pandas as pd\n",
    "import matplotlib.pyplot as plt\n",
    "import random\n",
    "from tqdm import trange"
   ]
  },
  {
   "cell_type": "code",
   "execution_count": 68,
   "metadata": {},
   "outputs": [
    {
     "data": {
      "text/html": [
       "<div>\n",
       "<style scoped>\n",
       "    .dataframe tbody tr th:only-of-type {\n",
       "        vertical-align: middle;\n",
       "    }\n",
       "\n",
       "    .dataframe tbody tr th {\n",
       "        vertical-align: top;\n",
       "    }\n",
       "\n",
       "    .dataframe thead th {\n",
       "        text-align: right;\n",
       "    }\n",
       "</style>\n",
       "<table border=\"1\" class=\"dataframe\">\n",
       "  <thead>\n",
       "    <tr style=\"text-align: right;\">\n",
       "      <th></th>\n",
       "      <th>fishoil_price_peru</th>\n",
       "      <th>fish_price_global</th>\n",
       "      <th>rapeseedoil_price_global</th>\n",
       "      <th>fishmeal_price_peru</th>\n",
       "      <th>peanutoil_price_global</th>\n",
       "      <th>soybeanoil_price_global</th>\n",
       "      <th>sunfloweroil_price_global</th>\n",
       "    </tr>\n",
       "    <tr>\n",
       "      <th>date</th>\n",
       "      <th></th>\n",
       "      <th></th>\n",
       "      <th></th>\n",
       "      <th></th>\n",
       "      <th></th>\n",
       "      <th></th>\n",
       "      <th></th>\n",
       "    </tr>\n",
       "  </thead>\n",
       "  <tbody>\n",
       "    <tr>\n",
       "      <th>2022-06-01</th>\n",
       "      <td>0.0</td>\n",
       "      <td>0.0</td>\n",
       "      <td>0.000000</td>\n",
       "      <td>0.000000</td>\n",
       "      <td>0.000000</td>\n",
       "      <td>0.000000</td>\n",
       "      <td>0.000000</td>\n",
       "    </tr>\n",
       "    <tr>\n",
       "      <th>2022-05-01</th>\n",
       "      <td>0.0</td>\n",
       "      <td>0.0</td>\n",
       "      <td>0.103397</td>\n",
       "      <td>0.016131</td>\n",
       "      <td>0.000047</td>\n",
       "      <td>0.113792</td>\n",
       "      <td>0.098321</td>\n",
       "    </tr>\n",
       "    <tr>\n",
       "      <th>2022-04-01</th>\n",
       "      <td>0.0</td>\n",
       "      <td>0.0</td>\n",
       "      <td>0.021282</td>\n",
       "      <td>0.005602</td>\n",
       "      <td>-0.000485</td>\n",
       "      <td>-0.007861</td>\n",
       "      <td>0.090283</td>\n",
       "    </tr>\n",
       "    <tr>\n",
       "      <th>2022-03-01</th>\n",
       "      <td>0.0</td>\n",
       "      <td>0.0</td>\n",
       "      <td>-0.046919</td>\n",
       "      <td>-0.081597</td>\n",
       "      <td>0.003676</td>\n",
       "      <td>0.004800</td>\n",
       "      <td>0.036826</td>\n",
       "    </tr>\n",
       "    <tr>\n",
       "      <th>2022-02-01</th>\n",
       "      <td>0.0</td>\n",
       "      <td>0.0</td>\n",
       "      <td>-0.214876</td>\n",
       "      <td>-0.046882</td>\n",
       "      <td>0.138541</td>\n",
       "      <td>-0.204014</td>\n",
       "      <td>-0.454262</td>\n",
       "    </tr>\n",
       "  </tbody>\n",
       "</table>\n",
       "</div>"
      ],
      "text/plain": [
       "            fishoil_price_peru  fish_price_global  rapeseedoil_price_global  \\\n",
       "date                                                                          \n",
       "2022-06-01                 0.0                0.0                  0.000000   \n",
       "2022-05-01                 0.0                0.0                  0.103397   \n",
       "2022-04-01                 0.0                0.0                  0.021282   \n",
       "2022-03-01                 0.0                0.0                 -0.046919   \n",
       "2022-02-01                 0.0                0.0                 -0.214876   \n",
       "\n",
       "            fishmeal_price_peru  peanutoil_price_global  \\\n",
       "date                                                      \n",
       "2022-06-01             0.000000                0.000000   \n",
       "2022-05-01             0.016131                0.000047   \n",
       "2022-04-01             0.005602               -0.000485   \n",
       "2022-03-01            -0.081597                0.003676   \n",
       "2022-02-01            -0.046882                0.138541   \n",
       "\n",
       "            soybeanoil_price_global  sunfloweroil_price_global  \n",
       "date                                                            \n",
       "2022-06-01                 0.000000                   0.000000  \n",
       "2022-05-01                 0.113792                   0.098321  \n",
       "2022-04-01                -0.007861                   0.090283  \n",
       "2022-03-01                 0.004800                   0.036826  \n",
       "2022-02-01                -0.204014                  -0.454262  "
      ]
     },
     "metadata": {},
     "output_type": "display_data"
    },
    {
     "data": {
      "image/png": "[encoded data removed]",
      "text/plain": [
       "<Figure size 432x288 with 1 Axes>"
      ]
     },
     "metadata": {
      "needs_background": "light"
     },
     "output_type": "display_data"
    }
   ],
   "source": [
    "# read processed data\n",
    "df = pd.read_csv('../../dataframes/monthly_processed.csv', index_col='date', parse_dates=True)\n",
    "df.plot()\n",
    "display(df.head())"
   ]
  },
  {
   "cell_type": "code",
   "execution_count": 69,
   "metadata": {},
   "outputs": [],
   "source": [
    "# variable definitions\n",
    "num_epochs = 30                 # number of epochs\n",
    "learning_rate = 0.001           # 0.001 lr+\n",
    "drop_out_p  = 0\n",
    "\n",
    "\n",
    "seq_length = 36                 # sequence length of sequence given to the LSTM layer\n",
    "pred_length = 12                # prediction length of output sequence produced by LSTM layer \n",
    "                                # (multiples of twelve since there is yearly seasonality)\n",
    "\n",
    "input_size = len(df.columns)    # number of features (amount of input variables)\n",
    "output_size = 1                 # size of output (peru fish oil price so just one variable)\n",
    "hidden_size = 32                # number of features in hidden state (this number should be treated as a hyperparameter)\n",
    "num_layers = 2                  # number of stacked lstm layers\n",
    "\n",
    "num_classes = pred_length       # number of output classes"
   ]
  },
  {
   "cell_type": "code",
   "execution_count": 70,
   "metadata": {},
   "outputs": [],
   "source": [
    "# function to create list of sequences of length seq_length\n",
    "def create_series(data):\n",
    "    # the amount of time-steps for which we have data\n",
    "    total_timesteps = len(data)\n",
    "\n",
    "    # arrays that hold the input sequences and the corresponding target sequences respectively.\n",
    "    sequencesX, sequencesY = [], []\n",
    "    if (total_timesteps < seq_length + pred_length):\n",
    "        # verify that enough time-steps of the data are available to create input sequence with their corresponding targets.\n",
    "        raise Exception(\"This dataframe cannot be used to create sequences of length \" + str(seq_length + pred_length))\n",
    "    \n",
    "    # create all possible sequences of length seq_length and their \n",
    "    for i in range(total_timesteps - seq_length - pred_length):\n",
    "        # append the input sequence\n",
    "        sequencesX.append(data.iloc[i:(i+seq_length), :])\n",
    "        # append the corresponding (target) output sequence\n",
    "        sequencesY.append(data.iloc[(i+seq_length):(i+seq_length+pred_length), 0:1])\n",
    "    \n",
    "    # return the sequences\n",
    "    return np.array(sequencesX), np.array(sequencesY)"
   ]
  },
  {
   "cell_type": "markdown",
   "metadata": {},
   "source": [
    "In the following code block the X and y sets are created.\n",
    "\n",
    "The shape of `X` is as follows:<br>\n",
    "The element `X[s][i][j]` contains the value of the $j$'th input variable (out of the `len(df.columns)` different input variables) at the $i$'th time-step (out of the `seq_length` time-steps in the sequence) for the $s$'th sequence in the data set `X`.<br>\n",
    "\n",
    "The shape of `y` is as follows:<br>\n",
    "The element `y[s][i][0]` contains the value of the peru fish oil price (target) at the $i$'th time-step (out of the `pred_length` time-steps in the sequence) for the $s$'th sequence in the data set `y`.<br>\n",
    "The last zero-index is used because all the values are wrapped in length one arrays.\n"
   ]
  },
  {
   "cell_type": "code",
   "execution_count": 78,
   "metadata": {},
   "outputs": [
    {
     "name": "stdout",
     "output_type": "stream",
     "text": [
      "Training input/output shapes respectively: (196, 36, 7) (196, 12, 1)\n",
      "Testing input/output shapes respectively: (14, 36, 7) (14, 12, 1)\n"
     ]
    }
   ],
   "source": [
    "# split data into train and test sets\n",
    "training_set_p = 0.8\n",
    "\n",
    "df_cut_off = df[df.index > \"1996-12-01\"]\n",
    "split_id = int(len(df_cut_off)*training_set_p)\n",
    "# TODO: May also need a validation set to determine optimal hyperparameters\n",
    "# df_train = df[(df.index > \"1996-12-01\") & (df.index < \"2010-01-01\")]    # use only past 1997 due to geopolitical changes\n",
    "# df_test = df[df.index >= \"2010-01-01\"]\n",
    "df_train = df_cut_off[:split_id]\n",
    "df_test = df_cut_off[split_id:]\n",
    "\n",
    "# create the sequences to train on\n",
    "X_train, y_train = create_series(df_train)\n",
    "\n",
    "# create the sequences to test on\n",
    "X_test, y_test = create_series(df_test)\n",
    "\n",
    "# print shapes\n",
    "print(\"Training input/output shapes respectively:\", X_train.shape, y_train.shape)\n",
    "print(\"Testing input/output shapes respectively:\", X_test.shape, y_test.shape)"
   ]
  },
  {
   "cell_type": "markdown",
   "metadata": {},
   "source": [
    "The datasets are converted to PyTorch tensors and the shapes are printed.<br>\n",
    "The input shape is of the form `(nr_of_sequences, seq_length, input_size)`.<br>\n",
    "The output shape is of the form `(nr_of_sequences, pred_length, output_size)`.\n",
    "\n",
    "If this needs to be reshaped the `torch.reshape(data, shape)` function can be used."
   ]
  },
  {
   "cell_type": "code",
   "execution_count": 79,
   "metadata": {},
   "outputs": [
    {
     "name": "stdout",
     "output_type": "stream",
     "text": [
      "Training input/output shapes respectively: torch.Size([196, 36, 7]) torch.Size([196, 36, 7])\n",
      "Testing input/output shapes respectively: torch.Size([14, 36, 7]) torch.Size([14, 12])\n"
     ]
    }
   ],
   "source": [
    "# convert data to pytorch variables\n",
    "X_train_tensors = Variable(torch.Tensor(X_train))\n",
    "y_train_tensors = Variable(torch.Tensor(y_train))\n",
    "X_test_tensors = Variable(torch.Tensor(X_test))\n",
    "y_test_tensors = Variable(torch.Tensor(y_test)) \n",
    "\n",
    "# flatten the output tensors to remove unnecassary dimension\n",
    "y_train_tensors = torch.flatten(y_train_tensors, 1)\n",
    "y_test_tensors = torch.flatten(y_test_tensors, 1)\n",
    "\n",
    "# print shapes\n",
    "print(\"Training input/output shapes respectively:\", X_train_tensors.shape, X_train_tensors.shape)\n",
    "print(\"Testing input/output shapes respectively:\", X_test_tensors.shape, y_test_tensors.shape)"
   ]
  },
  {
   "cell_type": "markdown",
   "metadata": {},
   "source": [
    "The input size of the first fully connected layer is equal to `(hidden_size * seq_length)` because the LSTM outputs the hidden state (containing `hidden_size` variables) for every time-step in the input which contains `seq_length` time-steps. The output size of this layer is a hyperparameter for which a default of twice the amount of inputs is used.\n",
    "\n",
    "The lstm layer can also use an initial hidden state and initial cell state for each time-step in the sequence of `seq_length` but since these are not provided it defaults to zero.<br>\n",
    "See the input section of the <a url=https://pytorch.org/docs/stable/generated/torch.nn.LSTM.html>documentation</a> for more information.\n",
    "\n",
    "The output of the lstm layer is `output, (output_hidden_states, output_cell_states)` where `output` contains for every sequence in the provided `input` the hidden state at each time-step.<br>\n",
    "Furthermore, `output_hidden_states` and `output_cell_states` contain for every sequence the hidden state and cell state of the last time-step, respectively."
   ]
  },
  {
   "cell_type": "code",
   "execution_count": 80,
   "metadata": {},
   "outputs": [],
   "source": [
    "# definition of LSTM model\n",
    "class LSTM(nn.Module):\n",
    "    def __init__(self, num_classes, input_size, hidden_size, num_layers, drop_out_p):\n",
    "        super(LSTM, self).__init__()\n",
    "        self.num_classes = num_classes      # number of classes\n",
    "        self.num_layers = num_layers        # number of layers\n",
    "        self.input_size = input_size        # input size\n",
    "        self.hidden_size = hidden_size      # hidden state\n",
    "        \n",
    "        fc_1_input_size = hidden_size * seq_length\n",
    "        fc_1_output_size = hidden_size * seq_length * 2     # output size of first fully connected layer (hyperparameter)\n",
    "\n",
    "        self.lstm = nn.LSTM(input_size=input_size, hidden_size=hidden_size, num_layers=num_layers, dropout=drop_out_p, batch_first=True) # lstm\n",
    "        self.fc_1 = nn.Linear(fc_1_input_size, fc_1_output_size) # first fully connected layer\n",
    "        self.fc_2 = nn.Linear(fc_1_output_size, num_classes) # second fully connected layer\n",
    "\n",
    "        self.relu = nn.ReLU()\n",
    "    \n",
    "    def forward(self, input):\n",
    "        # propagate input through LSTM\n",
    "        output, (output_hidden_states, output_cell_states) = self.lstm(input) # retrieve output from lstm by providing input (the initial hidden and cell states can be set but default sets to zero)\n",
    "        # flattened_output_hidden_states = torch.flatten(output_hidden_states) # flattened output hidden states\n",
    "        # flattened_output_cell_states = torch.flatten(output_cell_states) # flattened output cell states\n",
    "        # flattened_output = torch.cat((flattened_output_hidden_states, flattened_output_cell_states), 0) # concatenate the flattened output hidden and cell states (among dimension 0 since they only have one)\n",
    "        flattened_output = torch.flatten(output) # flattened output\n",
    "        out = self.relu(flattened_output) # relu\n",
    "        out = self.fc_1(out) # first fully connected layer\n",
    "        out = self.relu(out) # relu\n",
    "        out = self.fc_2(out) # second fully connected layer\n",
    "        return out"
   ]
  },
  {
   "cell_type": "code",
   "execution_count": 81,
   "metadata": {},
   "outputs": [],
   "source": [
    "# create the lstm layer \n",
    "lstm = LSTM(num_classes, input_size, hidden_size, num_layers, drop_out_p) # lstm layer"
   ]
  },
  {
   "cell_type": "code",
   "execution_count": 82,
   "metadata": {},
   "outputs": [],
   "source": [
    "# define the loss function and weight updating method\n",
    "criterion = torch.nn.MSELoss()    # mean-squared error for regression\n",
    "optimizer = torch.optim.Adam(lstm.parameters(), lr=learning_rate)"
   ]
  },
  {
   "cell_type": "code",
   "execution_count": 86,
   "metadata": {},
   "outputs": [
    {
     "name": "stderr",
     "output_type": "stream",
     "text": [
      "  3%|▎         | 1/30 [00:05<02:35,  5.37s/it]"
     ]
    },
    {
     "name": "stdout",
     "output_type": "stream",
     "text": [
      "Epoch: 0, loss: 0.00231\n"
     ]
    },
    {
     "name": "stderr",
     "output_type": "stream",
     "text": [
      " 20%|██        | 6/30 [00:31<02:07,  5.31s/it]"
     ]
    },
    {
     "name": "stdout",
     "output_type": "stream",
     "text": [
      "Epoch: 5, loss: 0.00157\n"
     ]
    },
    {
     "name": "stderr",
     "output_type": "stream",
     "text": [
      " 37%|███▋      | 11/30 [00:58<01:40,  5.30s/it]"
     ]
    },
    {
     "name": "stdout",
     "output_type": "stream",
     "text": [
      "Epoch: 10, loss: 0.00083\n"
     ]
    },
    {
     "name": "stderr",
     "output_type": "stream",
     "text": [
      " 53%|█████▎    | 16/30 [01:24<01:13,  5.28s/it]"
     ]
    },
    {
     "name": "stdout",
     "output_type": "stream",
     "text": [
      "Epoch: 15, loss: 0.00084\n"
     ]
    },
    {
     "name": "stderr",
     "output_type": "stream",
     "text": [
      " 70%|███████   | 21/30 [01:51<00:47,  5.25s/it]"
     ]
    },
    {
     "name": "stdout",
     "output_type": "stream",
     "text": [
      "Epoch: 20, loss: 0.00157\n"
     ]
    },
    {
     "name": "stderr",
     "output_type": "stream",
     "text": [
      " 87%|████████▋ | 26/30 [02:17<00:21,  5.26s/it]"
     ]
    },
    {
     "name": "stdout",
     "output_type": "stream",
     "text": [
      "Epoch: 25, loss: 0.00056\n"
     ]
    },
    {
     "name": "stderr",
     "output_type": "stream",
     "text": [
      "100%|██████████| 30/30 [02:39<00:00,  5.32s/it]\n"
     ]
    },
    {
     "data": {
      "image/png": "[encoded data removed]",
      "text/plain": [
       "<Figure size 432x288 with 1 Axes>"
      ]
     },
     "metadata": {
      "needs_background": "light"
     },
     "output_type": "display_data"
    }
   ],
   "source": [
    "# train the model\n",
    "losses = []\n",
    "avg_losses = []\n",
    "for epoch in trange(num_epochs):\n",
    "  # using batches of size 1\n",
    "  avg_loss = []\n",
    "  for sequence in range(X_train_tensors.size(0)):\n",
    "    # print(X_train_tensors[sequence].size())\n",
    "    output = lstm.forward(X_train_tensors[sequence].unsqueeze(dim=0)) # forward pass\n",
    "    optimizer.zero_grad() # calculate the gradient, manually setting to 0\n",
    "  \n",
    "    # obtain the loss function\n",
    "    loss = criterion(output, y_train_tensors[sequence])\n",
    "    loss.backward() # calculates the loss of the loss function\n",
    "    optimizer.step() # improve from loss, i.e backprop\n",
    "    avg_loss.append(loss.item())\n",
    "  avg_losses.append(np.mean(avg_loss))\n",
    "  losses.append(loss.item())\n",
    "  if epoch % 5 == 0:\n",
    "    print(\"Epoch: %d, loss: %1.5f\" % (epoch, loss.item()))\n",
    "    torch.save(lstm.state_dict(), \"../trained_models/lstm_h={}_layers={}_epoch={}\".format(hidden_size, num_layers, epoch))\n",
    "\n",
    "  plt.plot(losses)\n",
    "  plt.plot(avg_losses)"
   ]
  },
  {
   "cell_type": "code",
   "execution_count": 87,
   "metadata": {},
   "outputs": [
    {
     "name": "stdout",
     "output_type": "stream",
     "text": [
      "[0.0023092583287507296, 0.0019521787762641907, 0.001217747456394136, 0.0016685990849509835, 0.0006359846447594464, 0.0015691994922235608, 0.0011399680515751243, 0.000947890745010227, 0.0001880884956335649, 0.0007491259020753205, 0.0008314670412801206, 0.001053934101946652, 0.0023809971753507853, 0.0006386915920302272, 0.0006853860686533153, 0.0008435347117483616, 0.0009719698573462665, 0.000926649197936058, 0.0007874935399740934, 0.0013826116919517517, 0.0015735995257273316, 0.0003973600687459111, 0.0007534479373134673, 0.0008825520053505898, 0.0009256830089725554, 0.0005589912761934102, 0.0009262733510695398, 0.0008722064085304737, 0.0015241479268297553, 0.0006766094011254609]\n"
     ]
    }
   ],
   "source": [
    "print(losses)"
   ]
  },
  {
   "cell_type": "markdown",
   "metadata": {},
   "source": [
    "The past baseline predicts that the next 12 months of fish oil log ratios will be exactly those observed last year.<br>\n",
    "The repeat baselines predicts that the next 12 months of fish oil log ratios will all be equal to the last observed fish oil log ratio."
   ]
  },
  {
   "cell_type": "code",
   "execution_count": 77,
   "metadata": {},
   "outputs": [
    {
     "ename": "RuntimeError",
     "evalue": "input must have 3 dimensions, got 2",
     "output_type": "error",
     "traceback": [
      "\u001b[1;31m---------------------------------------------------------------------------\u001b[0m",
      "\u001b[1;31mRuntimeError\u001b[0m                              Traceback (most recent call last)",
      "\u001b[1;32mc:\\Users\\maudv\\Luc\\fishoil\\models\\lstm\\LSTM Model copy.ipynb Cell 16\u001b[0m in \u001b[0;36m<cell line: 8>\u001b[1;34m()\u001b[0m\n\u001b[0;32m      <a href='vscode-notebook-cell:/c%3A/Users/maudv/Luc/fishoil/models/lstm/LSTM%20Model%20copy.ipynb#X21sZmlsZQ%3D%3D?line=6'>7</a>\u001b[0m \u001b[39m# first sequence in test set are not used to ease baseline computation\u001b[39;00m\n\u001b[0;32m      <a href='vscode-notebook-cell:/c%3A/Users/maudv/Luc/fishoil/models/lstm/LSTM%20Model%20copy.ipynb#X21sZmlsZQ%3D%3D?line=7'>8</a>\u001b[0m \u001b[39mfor\u001b[39;00m sequence \u001b[39min\u001b[39;00m \u001b[39mrange\u001b[39m(\u001b[39m1\u001b[39m, X_test_tensors\u001b[39m.\u001b[39msize(\u001b[39m0\u001b[39m)):\n\u001b[0;32m      <a href='vscode-notebook-cell:/c%3A/Users/maudv/Luc/fishoil/models/lstm/LSTM%20Model%20copy.ipynb#X21sZmlsZQ%3D%3D?line=8'>9</a>\u001b[0m     \u001b[39m# output of lstm layer\u001b[39;00m\n\u001b[1;32m---> <a href='vscode-notebook-cell:/c%3A/Users/maudv/Luc/fishoil/models/lstm/LSTM%20Model%20copy.ipynb#X21sZmlsZQ%3D%3D?line=9'>10</a>\u001b[0m     lstm_output \u001b[39m=\u001b[39m lstm\u001b[39m.\u001b[39;49mforward(X_test_tensors[sequence])\n\u001b[0;32m     <a href='vscode-notebook-cell:/c%3A/Users/maudv/Luc/fishoil/models/lstm/LSTM%20Model%20copy.ipynb#X21sZmlsZQ%3D%3D?line=11'>12</a>\u001b[0m     \u001b[39m# output of baseline using past data\u001b[39;00m\n\u001b[0;32m     <a href='vscode-notebook-cell:/c%3A/Users/maudv/Luc/fishoil/models/lstm/LSTM%20Model%20copy.ipynb#X21sZmlsZQ%3D%3D?line=12'>13</a>\u001b[0m     baseline_past_output \u001b[39m=\u001b[39m y_test_tensors[sequence\u001b[39m-\u001b[39mpred_length]\n",
      "\u001b[1;32mc:\\Users\\maudv\\Luc\\fishoil\\models\\lstm\\LSTM Model copy.ipynb Cell 16\u001b[0m in \u001b[0;36mLSTM.forward\u001b[1;34m(self, input)\u001b[0m\n\u001b[0;32m     <a href='vscode-notebook-cell:/c%3A/Users/maudv/Luc/fishoil/models/lstm/LSTM%20Model%20copy.ipynb#X21sZmlsZQ%3D%3D?line=18'>19</a>\u001b[0m \u001b[39mdef\u001b[39;00m \u001b[39mforward\u001b[39m(\u001b[39mself\u001b[39m, \u001b[39minput\u001b[39m):\n\u001b[0;32m     <a href='vscode-notebook-cell:/c%3A/Users/maudv/Luc/fishoil/models/lstm/LSTM%20Model%20copy.ipynb#X21sZmlsZQ%3D%3D?line=19'>20</a>\u001b[0m     \u001b[39m# propagate input through LSTM\u001b[39;00m\n\u001b[1;32m---> <a href='vscode-notebook-cell:/c%3A/Users/maudv/Luc/fishoil/models/lstm/LSTM%20Model%20copy.ipynb#X21sZmlsZQ%3D%3D?line=20'>21</a>\u001b[0m     output, (output_hidden_states, output_cell_states) \u001b[39m=\u001b[39m \u001b[39mself\u001b[39;49m\u001b[39m.\u001b[39;49mlstm(\u001b[39minput\u001b[39;49m) \u001b[39m# retrieve output from lstm by providing input (the initial hidden and cell states can be set but default sets to zero)\u001b[39;00m\n\u001b[0;32m     <a href='vscode-notebook-cell:/c%3A/Users/maudv/Luc/fishoil/models/lstm/LSTM%20Model%20copy.ipynb#X21sZmlsZQ%3D%3D?line=21'>22</a>\u001b[0m     \u001b[39m# flattened_output_hidden_states = torch.flatten(output_hidden_states) # flattened output hidden states\u001b[39;00m\n\u001b[0;32m     <a href='vscode-notebook-cell:/c%3A/Users/maudv/Luc/fishoil/models/lstm/LSTM%20Model%20copy.ipynb#X21sZmlsZQ%3D%3D?line=22'>23</a>\u001b[0m     \u001b[39m# flattened_output_cell_states = torch.flatten(output_cell_states) # flattened output cell states\u001b[39;00m\n\u001b[0;32m     <a href='vscode-notebook-cell:/c%3A/Users/maudv/Luc/fishoil/models/lstm/LSTM%20Model%20copy.ipynb#X21sZmlsZQ%3D%3D?line=23'>24</a>\u001b[0m     \u001b[39m# flattened_output = torch.cat((flattened_output_hidden_states, flattened_output_cell_states), 0) # concatenate the flattened output hidden and cell states (among dimension 0 since they only have one)\u001b[39;00m\n\u001b[0;32m     <a href='vscode-notebook-cell:/c%3A/Users/maudv/Luc/fishoil/models/lstm/LSTM%20Model%20copy.ipynb#X21sZmlsZQ%3D%3D?line=24'>25</a>\u001b[0m     flattened_output \u001b[39m=\u001b[39m torch\u001b[39m.\u001b[39mflatten(output) \u001b[39m# flattened output\u001b[39;00m\n",
      "File \u001b[1;32mc:\\Users\\maudv\\miniconda3\\lib\\site-packages\\torch\\nn\\modules\\module.py:1102\u001b[0m, in \u001b[0;36mModule._call_impl\u001b[1;34m(self, *input, **kwargs)\u001b[0m\n\u001b[0;32m   1098\u001b[0m \u001b[39m# If we don't have any hooks, we want to skip the rest of the logic in\u001b[39;00m\n\u001b[0;32m   1099\u001b[0m \u001b[39m# this function, and just call forward.\u001b[39;00m\n\u001b[0;32m   1100\u001b[0m \u001b[39mif\u001b[39;00m \u001b[39mnot\u001b[39;00m (\u001b[39mself\u001b[39m\u001b[39m.\u001b[39m_backward_hooks \u001b[39mor\u001b[39;00m \u001b[39mself\u001b[39m\u001b[39m.\u001b[39m_forward_hooks \u001b[39mor\u001b[39;00m \u001b[39mself\u001b[39m\u001b[39m.\u001b[39m_forward_pre_hooks \u001b[39mor\u001b[39;00m _global_backward_hooks\n\u001b[0;32m   1101\u001b[0m         \u001b[39mor\u001b[39;00m _global_forward_hooks \u001b[39mor\u001b[39;00m _global_forward_pre_hooks):\n\u001b[1;32m-> 1102\u001b[0m     \u001b[39mreturn\u001b[39;00m forward_call(\u001b[39m*\u001b[39m\u001b[39minput\u001b[39m, \u001b[39m*\u001b[39m\u001b[39m*\u001b[39mkwargs)\n\u001b[0;32m   1103\u001b[0m \u001b[39m# Do not call functions when jit is used\u001b[39;00m\n\u001b[0;32m   1104\u001b[0m full_backward_hooks, non_full_backward_hooks \u001b[39m=\u001b[39m [], []\n",
      "File \u001b[1;32mc:\\Users\\maudv\\miniconda3\\lib\\site-packages\\torch\\nn\\modules\\rnn.py:689\u001b[0m, in \u001b[0;36mLSTM.forward\u001b[1;34m(self, input, hx)\u001b[0m\n\u001b[0;32m    684\u001b[0m \u001b[39melse\u001b[39;00m:\n\u001b[0;32m    685\u001b[0m     \u001b[39m# Each batch of the hidden state should match the input sequence that\u001b[39;00m\n\u001b[0;32m    686\u001b[0m     \u001b[39m# the user believes he/she is passing in.\u001b[39;00m\n\u001b[0;32m    687\u001b[0m     hx \u001b[39m=\u001b[39m \u001b[39mself\u001b[39m\u001b[39m.\u001b[39mpermute_hidden(hx, sorted_indices)\n\u001b[1;32m--> 689\u001b[0m \u001b[39mself\u001b[39;49m\u001b[39m.\u001b[39;49mcheck_forward_args(\u001b[39minput\u001b[39;49m, hx, batch_sizes)\n\u001b[0;32m    690\u001b[0m \u001b[39mif\u001b[39;00m batch_sizes \u001b[39mis\u001b[39;00m \u001b[39mNone\u001b[39;00m:\n\u001b[0;32m    691\u001b[0m     result \u001b[39m=\u001b[39m _VF\u001b[39m.\u001b[39mlstm(\u001b[39minput\u001b[39m, hx, \u001b[39mself\u001b[39m\u001b[39m.\u001b[39m_flat_weights, \u001b[39mself\u001b[39m\u001b[39m.\u001b[39mbias, \u001b[39mself\u001b[39m\u001b[39m.\u001b[39mnum_layers,\n\u001b[0;32m    692\u001b[0m                       \u001b[39mself\u001b[39m\u001b[39m.\u001b[39mdropout, \u001b[39mself\u001b[39m\u001b[39m.\u001b[39mtraining, \u001b[39mself\u001b[39m\u001b[39m.\u001b[39mbidirectional, \u001b[39mself\u001b[39m\u001b[39m.\u001b[39mbatch_first)\n",
      "File \u001b[1;32mc:\\Users\\maudv\\miniconda3\\lib\\site-packages\\torch\\nn\\modules\\rnn.py:632\u001b[0m, in \u001b[0;36mLSTM.check_forward_args\u001b[1;34m(self, input, hidden, batch_sizes)\u001b[0m\n\u001b[0;32m    627\u001b[0m \u001b[39mdef\u001b[39;00m \u001b[39mcheck_forward_args\u001b[39m(\u001b[39mself\u001b[39m,  \u001b[39m# type: ignore[override]\u001b[39;00m\n\u001b[0;32m    628\u001b[0m                        \u001b[39minput\u001b[39m: Tensor,\n\u001b[0;32m    629\u001b[0m                        hidden: Tuple[Tensor, Tensor],\n\u001b[0;32m    630\u001b[0m                        batch_sizes: Optional[Tensor],\n\u001b[0;32m    631\u001b[0m                        ):\n\u001b[1;32m--> 632\u001b[0m     \u001b[39mself\u001b[39;49m\u001b[39m.\u001b[39;49mcheck_input(\u001b[39minput\u001b[39;49m, batch_sizes)\n\u001b[0;32m    633\u001b[0m     \u001b[39mself\u001b[39m\u001b[39m.\u001b[39mcheck_hidden_size(hidden[\u001b[39m0\u001b[39m], \u001b[39mself\u001b[39m\u001b[39m.\u001b[39mget_expected_hidden_size(\u001b[39minput\u001b[39m, batch_sizes),\n\u001b[0;32m    634\u001b[0m                            \u001b[39m'\u001b[39m\u001b[39mExpected hidden[0] size \u001b[39m\u001b[39m{}\u001b[39;00m\u001b[39m, got \u001b[39m\u001b[39m{}\u001b[39;00m\u001b[39m'\u001b[39m)\n\u001b[0;32m    635\u001b[0m     \u001b[39mself\u001b[39m\u001b[39m.\u001b[39mcheck_hidden_size(hidden[\u001b[39m1\u001b[39m], \u001b[39mself\u001b[39m\u001b[39m.\u001b[39mget_expected_cell_size(\u001b[39minput\u001b[39m, batch_sizes),\n\u001b[0;32m    636\u001b[0m                            \u001b[39m'\u001b[39m\u001b[39mExpected hidden[1] size \u001b[39m\u001b[39m{}\u001b[39;00m\u001b[39m, got \u001b[39m\u001b[39m{}\u001b[39;00m\u001b[39m'\u001b[39m)\n",
      "File \u001b[1;32mc:\\Users\\maudv\\miniconda3\\lib\\site-packages\\torch\\nn\\modules\\rnn.py:201\u001b[0m, in \u001b[0;36mRNNBase.check_input\u001b[1;34m(self, input, batch_sizes)\u001b[0m\n\u001b[0;32m    199\u001b[0m expected_input_dim \u001b[39m=\u001b[39m \u001b[39m2\u001b[39m \u001b[39mif\u001b[39;00m batch_sizes \u001b[39mis\u001b[39;00m \u001b[39mnot\u001b[39;00m \u001b[39mNone\u001b[39;00m \u001b[39melse\u001b[39;00m \u001b[39m3\u001b[39m\n\u001b[0;32m    200\u001b[0m \u001b[39mif\u001b[39;00m \u001b[39minput\u001b[39m\u001b[39m.\u001b[39mdim() \u001b[39m!=\u001b[39m expected_input_dim:\n\u001b[1;32m--> 201\u001b[0m     \u001b[39mraise\u001b[39;00m \u001b[39mRuntimeError\u001b[39;00m(\n\u001b[0;32m    202\u001b[0m         \u001b[39m'\u001b[39m\u001b[39minput must have \u001b[39m\u001b[39m{}\u001b[39;00m\u001b[39m dimensions, got \u001b[39m\u001b[39m{}\u001b[39;00m\u001b[39m'\u001b[39m\u001b[39m.\u001b[39mformat(\n\u001b[0;32m    203\u001b[0m             expected_input_dim, \u001b[39minput\u001b[39m\u001b[39m.\u001b[39mdim()))\n\u001b[0;32m    204\u001b[0m \u001b[39mif\u001b[39;00m \u001b[39mself\u001b[39m\u001b[39m.\u001b[39minput_size \u001b[39m!=\u001b[39m \u001b[39minput\u001b[39m\u001b[39m.\u001b[39msize(\u001b[39m-\u001b[39m\u001b[39m1\u001b[39m):\n\u001b[0;32m    205\u001b[0m     \u001b[39mraise\u001b[39;00m \u001b[39mRuntimeError\u001b[39;00m(\n\u001b[0;32m    206\u001b[0m         \u001b[39m'\u001b[39m\u001b[39minput.size(-1) must be equal to input_size. Expected \u001b[39m\u001b[39m{}\u001b[39;00m\u001b[39m, got \u001b[39m\u001b[39m{}\u001b[39;00m\u001b[39m'\u001b[39m\u001b[39m.\u001b[39mformat(\n\u001b[0;32m    207\u001b[0m             \u001b[39mself\u001b[39m\u001b[39m.\u001b[39minput_size, \u001b[39minput\u001b[39m\u001b[39m.\u001b[39msize(\u001b[39m-\u001b[39m\u001b[39m1\u001b[39m)))\n",
      "\u001b[1;31mRuntimeError\u001b[0m: input must have 3 dimensions, got 2"
     ]
    }
   ],
   "source": [
    "# make predictions for the test set using lstm and baseline models and compute the losses\n",
    "lstm_outputs = []\n",
    "baseline_past_outputs = []\n",
    "lstm_losses = []\n",
    "baseline_past_losses = []\n",
    "\n",
    "# first sequence in test set are not used to ease baseline computation\n",
    "for sequence in range(1, X_test_tensors.size(0)):\n",
    "    # output of lstm layer\n",
    "    lstm_output = lstm.forward(X_test_tensors[sequence])\n",
    "\n",
    "    # output of baseline using past data\n",
    "    baseline_past_output = y_test_tensors[sequence-pred_length]\n",
    "\n",
    "    # compute losses\n",
    "    loss_lstm = criterion(lstm_output, y_test_tensors[sequence])\n",
    "    loss_baseline_past = criterion(baseline_past_output, y_test_tensors[sequence])\n",
    "\n",
    "    # save the outputs\n",
    "    lstm_outputs.append(lstm_output.detach().numpy())\n",
    "    baseline_past_outputs.append(baseline_past_output.numpy())\n",
    "\n",
    "    # save the losses\n",
    "    lstm_losses.append(loss_lstm.detach().numpy())\n",
    "    baseline_past_losses.append(loss_baseline_past.numpy())"
   ]
  },
  {
   "cell_type": "code",
   "execution_count": null,
   "metadata": {},
   "outputs": [
    {
     "ename": "IndexError",
     "evalue": "list index out of range",
     "output_type": "error",
     "traceback": [
      "\u001b[1;31m---------------------------------------------------------------------------\u001b[0m",
      "\u001b[1;31mIndexError\u001b[0m                                Traceback (most recent call last)",
      "\u001b[1;32mc:\\Users\\maudv\\Luc\\fishoil\\models\\lstm\\LSTM Model copy.ipynb Cell 17\u001b[0m in \u001b[0;36m<cell line: 5>\u001b[1;34m()\u001b[0m\n\u001b[0;32m      <a href='vscode-notebook-cell:/c%3A/Users/maudv/Luc/fishoil/models/lstm/LSTM%20Model%20copy.ipynb#X22sZmlsZQ%3D%3D?line=1'>2</a>\u001b[0m random_test_sequence \u001b[39m=\u001b[39m random\u001b[39m.\u001b[39mrandint(\u001b[39m1\u001b[39m, X_test_tensors\u001b[39m.\u001b[39msize(\u001b[39m0\u001b[39m) \u001b[39m-\u001b[39m \u001b[39m1\u001b[39m)\n\u001b[0;32m      <a href='vscode-notebook-cell:/c%3A/Users/maudv/Luc/fishoil/models/lstm/LSTM%20Model%20copy.ipynb#X22sZmlsZQ%3D%3D?line=3'>4</a>\u001b[0m \u001b[39m# plot lstm and baseline outputs for the random sequence and compare to expected output\u001b[39;00m\n\u001b[1;32m----> <a href='vscode-notebook-cell:/c%3A/Users/maudv/Luc/fishoil/models/lstm/LSTM%20Model%20copy.ipynb#X22sZmlsZQ%3D%3D?line=4'>5</a>\u001b[0m data \u001b[39m=\u001b[39m {\u001b[39m'\u001b[39m\u001b[39mTarget\u001b[39m\u001b[39m'\u001b[39m: y_test_tensors[random_test_sequence]\u001b[39m.\u001b[39mnumpy(), \u001b[39m'\u001b[39m\u001b[39mLSTM\u001b[39m\u001b[39m'\u001b[39m: lstm_outputs[random_test_sequence\u001b[39m-\u001b[39;49m\u001b[39m1\u001b[39;49m], \u001b[39m'\u001b[39m\u001b[39mBaseline past data\u001b[39m\u001b[39m'\u001b[39m: baseline_past_outputs[random_test_sequence\u001b[39m-\u001b[39m\u001b[39m1\u001b[39m]}\n\u001b[0;32m      <a href='vscode-notebook-cell:/c%3A/Users/maudv/Luc/fishoil/models/lstm/LSTM%20Model%20copy.ipynb#X22sZmlsZQ%3D%3D?line=5'>6</a>\u001b[0m df_performance \u001b[39m=\u001b[39m pd\u001b[39m.\u001b[39mDataFrame(data)\n\u001b[0;32m      <a href='vscode-notebook-cell:/c%3A/Users/maudv/Luc/fishoil/models/lstm/LSTM%20Model%20copy.ipynb#X22sZmlsZQ%3D%3D?line=7'>8</a>\u001b[0m \u001b[39m# plot all data\u001b[39;00m\n",
      "\u001b[1;31mIndexError\u001b[0m: list index out of range"
     ]
    }
   ],
   "source": [
    "# get a random sequence from the test set\n",
    "random_test_sequence = random.randint(1, X_test_tensors.size(0) - 1)\n",
    "\n",
    "# plot lstm and baseline outputs for the random sequence and compare to expected output\n",
    "data = {'Target': y_test_tensors[random_test_sequence].numpy(), 'LSTM': lstm_outputs[random_test_sequence-1], 'Baseline past data': baseline_past_outputs[random_test_sequence-1]}\n",
    "df_performance = pd.DataFrame(data)\n",
    "\n",
    "# plot all data\n",
    "fig, axs = plt.subplots(1, 2, figsize=(30, 5))\n",
    "\n",
    "df_performance.plot(kind='line', y='Target', color='green', ax=axs[0])\n",
    "df_performance.plot(kind='line', y='LSTM', color='blue', ax=axs[0])\n",
    "df_performance.plot(kind='line', y='Baseline past data', color='red', ax=axs[0])\n",
    "axs[0].set(xlabel='Month', ylabel='Log ratio')\n",
    "axs[0].set_xticks(np.arange(0, pred_length, 1))\n",
    "\n",
    "# print losses \n",
    "print(\"LSTM loss:\", lstm_losses[random_test_sequence-1])\n",
    "print(\"Baseline past loss:\", baseline_past_losses[random_test_sequence-1])"
   ]
  },
  {
   "cell_type": "code",
   "execution_count": null,
   "metadata": {},
   "outputs": [
    {
     "ename": "IndexError",
     "evalue": "list index out of range",
     "output_type": "error",
     "traceback": [
      "\u001b[1;31m---------------------------------------------------------------------------\u001b[0m",
      "\u001b[1;31mIndexError\u001b[0m                                Traceback (most recent call last)",
      "\u001b[1;32mc:\\Users\\maudv\\Luc\\fishoil\\models\\lstm\\LSTM Model copy.ipynb Cell 18\u001b[0m in \u001b[0;36m<cell line: 5>\u001b[1;34m()\u001b[0m\n\u001b[0;32m      <a href='vscode-notebook-cell:/c%3A/Users/maudv/Luc/fishoil/models/lstm/LSTM%20Model%20copy.ipynb#X23sZmlsZQ%3D%3D?line=1'>2</a>\u001b[0m random_test_sequence \u001b[39m=\u001b[39m random\u001b[39m.\u001b[39mrandint(\u001b[39m1\u001b[39m, X_test_tensors\u001b[39m.\u001b[39msize(\u001b[39m0\u001b[39m) \u001b[39m-\u001b[39m \u001b[39m1\u001b[39m)\n\u001b[0;32m      <a href='vscode-notebook-cell:/c%3A/Users/maudv/Luc/fishoil/models/lstm/LSTM%20Model%20copy.ipynb#X23sZmlsZQ%3D%3D?line=3'>4</a>\u001b[0m \u001b[39m# plot lstm and baseline outputs for the random sequence and compare to expected output\u001b[39;00m\n\u001b[1;32m----> <a href='vscode-notebook-cell:/c%3A/Users/maudv/Luc/fishoil/models/lstm/LSTM%20Model%20copy.ipynb#X23sZmlsZQ%3D%3D?line=4'>5</a>\u001b[0m data \u001b[39m=\u001b[39m {\u001b[39m'\u001b[39m\u001b[39mTarget\u001b[39m\u001b[39m'\u001b[39m: y_test_tensors[random_test_sequence]\u001b[39m.\u001b[39mnumpy(), \u001b[39m'\u001b[39m\u001b[39mLSTM\u001b[39m\u001b[39m'\u001b[39m: lstm_outputs[random_test_sequence\u001b[39m-\u001b[39;49m\u001b[39m1\u001b[39;49m], \u001b[39m'\u001b[39m\u001b[39mBaseline past data\u001b[39m\u001b[39m'\u001b[39m: baseline_past_outputs[random_test_sequence\u001b[39m-\u001b[39m\u001b[39m1\u001b[39m], \u001b[39m'\u001b[39m\u001b[39mBaseline repeated data\u001b[39m\u001b[39m'\u001b[39m: baseline_repeat_outputs[random_test_sequence\u001b[39m-\u001b[39m\u001b[39m1\u001b[39m]}\n\u001b[0;32m      <a href='vscode-notebook-cell:/c%3A/Users/maudv/Luc/fishoil/models/lstm/LSTM%20Model%20copy.ipynb#X23sZmlsZQ%3D%3D?line=5'>6</a>\u001b[0m df_performance \u001b[39m=\u001b[39m pd\u001b[39m.\u001b[39mDataFrame(data)\n\u001b[0;32m      <a href='vscode-notebook-cell:/c%3A/Users/maudv/Luc/fishoil/models/lstm/LSTM%20Model%20copy.ipynb#X23sZmlsZQ%3D%3D?line=7'>8</a>\u001b[0m \u001b[39m# plot all data\u001b[39;00m\n",
      "\u001b[1;31mIndexError\u001b[0m: list index out of range"
     ]
    }
   ],
   "source": [
    "# get a random sequence from the test set\n",
    "random_test_sequence = random.randint(1, X_test_tensors.size(0) - 1)\n",
    "\n",
    "# plot lstm and baseline outputs for the random sequence and compare to expected output\n",
    "data = {'Target': y_test_tensors[random_test_sequence].numpy(), 'LSTM': lstm_outputs[random_test_sequence-1], 'Baseline past data': baseline_past_outputs[random_test_sequence-1], 'Baseline repeated data': baseline_repeat_outputs[random_test_sequence-1]}\n",
    "df_performance = pd.DataFrame(data)\n",
    "\n",
    "# plot all data\n",
    "fig, axs = plt.subplots(1, 2, figsize=(30, 5))\n",
    "\n",
    "for (model, color) in zip(['Target', 'LSTM', 'Baseline past data'], ['green', 'blue', 'red']):\n",
    "    for i in range(len(data[model])):\n",
    "        output = data[model][i]\n",
    "        axs[0].plot(i, output, color=color,\n",
    "                marker = '.',\n",
    "                markerfacecolor=color,\n",
    "                markeredgecolor=color,\n",
    "                fillstyle = 'full',\n",
    "                label=i)\n",
    "axs[0].set(xlabel='Month', ylabel='Log ratio')\n",
    "axs[0].set_xticks(np.arange(0, 12, 1))\n",
    "\n",
    "for (model, color) in zip(['Target', 'LSTM', 'Baseline repeated data'], ['green', 'blue', 'red']):\n",
    "    for i in range(len(data[model])):\n",
    "        output = data[model][i]\n",
    "        axs[1].plot(i, output, color=color,\n",
    "                marker = '.',\n",
    "                markerfacecolor=color,\n",
    "                markeredgecolor=color,\n",
    "                fillstyle = 'full',\n",
    "                label=i)\n",
    "axs[1].set(xlabel='Month', ylabel='Log ratio')\n",
    "axs[1].set_xticks(np.arange(0, 12, 1))\n",
    "\n",
    "# print losses \n",
    "print(\"LSTM loss:\", lstm_losses[random_test_sequence-1])\n",
    "print(\"Baseline past loss:\", baseline_past_losses[random_test_sequence-1])\n",
    "print(\"Baseline repeated loss:\", baseline_repeat_losses[random_test_sequence-1])"
   ]
  },
  {
   "cell_type": "markdown",
   "metadata": {},
   "source": [
    "Possible factors holding back model performance:\n",
    "- provided features do not give enough information \n",
    "- target output could be wrong (prediction length)\n",
    "- layers of the model do not extract information from the features correctly\n",
    "    - no use of normalization between layers\n",
    "    - wrong layers are used and possibly too few\n",
    "    - wrong hyperparameter values are used\n",
    "- training is not done correctly   \n",
    "    - no useage of batches\n",
    "    - different loss function may be better\n"
   ]
  }
 ],
 "metadata": {
  "kernelspec": {
   "display_name": "Python 3.9.12 ('base')",
   "language": "python",
   "name": "python3"
  },
  "language_info": {
   "codemirror_mode": {
    "name": "ipython",
    "version": 3
   },
   "file_extension": ".py",
   "mimetype": "text/x-python",
   "name": "python",
   "nbconvert_exporter": "python",
   "pygments_lexer": "ipython3",
   "version": "3.9.12"
  },
  "orig_nbformat": 4,
  "vscode": {
   "interpreter": {
    "hash": "214a6acebc81f6c56e6f3f240173035efc501832fa39e744972a802389107c5b"
   }
  }
 },
 "nbformat": 4,
 "nbformat_minor": 2
}
